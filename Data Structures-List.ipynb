{
 "cells": [
  {
   "cell_type": "markdown",
   "metadata": {},
   "source": [
    "# List-Most versatile datatype available in Python \n",
    "     # can be written as a list of comma-separated values (items) between square brackets. \n",
    "     # Important thing about a list is that items in a list need not be of the same type."
   ]
  },
  {
   "cell_type": "code",
   "execution_count": 35,
   "metadata": {},
   "outputs": [
    {
     "data": {
      "text/plain": [
       "['Tim', 'Hari', 'Sally', 'Nick', 'Tom', 'Dave', 'John', 'Hari']"
      ]
     },
     "execution_count": 35,
     "metadata": {},
     "output_type": "execute_result"
    }
   ],
   "source": [
    "names =['Tim','Hari','Sally', 'Nick','Tom','Dave','John', 'Hari']\n",
    "names"
   ]
  },
  {
   "cell_type": "code",
   "execution_count": 36,
   "metadata": {},
   "outputs": [
    {
     "data": {
      "text/plain": [
       "'Tim'"
      ]
     },
     "execution_count": 36,
     "metadata": {},
     "output_type": "execute_result"
    }
   ],
   "source": [
    "names[0] # displays 0th elements"
   ]
  },
  {
   "cell_type": "code",
   "execution_count": 37,
   "metadata": {},
   "outputs": [
    {
     "data": {
      "text/plain": [
       "2"
      ]
     },
     "execution_count": 37,
     "metadata": {},
     "output_type": "execute_result"
    }
   ],
   "source": [
    "names.count('Hari') # counts how many times Hari is in the names list"
   ]
  },
  {
   "cell_type": "code",
   "execution_count": 38,
   "metadata": {},
   "outputs": [
    {
     "data": {
      "text/plain": [
       "['Tim', 'Hari', 'Sally', 'Nick', 'Dave', 'John', 'Hari']"
      ]
     },
     "execution_count": 38,
     "metadata": {},
     "output_type": "execute_result"
    }
   ],
   "source": [
    "names.remove('Tom') # removes Babana from the List\n",
    "names"
   ]
  },
  {
   "cell_type": "code",
   "execution_count": 39,
   "metadata": {},
   "outputs": [
    {
     "data": {
      "text/plain": [
       "['Tim', 'Hari', 'Troy', 'Sally', 'Nick', 'Dave', 'John', 'Hari']"
      ]
     },
     "execution_count": 39,
     "metadata": {},
     "output_type": "execute_result"
    }
   ],
   "source": [
    "names.insert(2,'Troy') # Adding an element at 2nd position with value \"Troy\". index starts at 0\n",
    "names"
   ]
  },
  {
   "cell_type": "code",
   "execution_count": 52,
   "metadata": {},
   "outputs": [
    {
     "data": {
      "text/plain": [
       "['Dave', 'Hari', 'Hari', 'John', 'Nick', 'Sally', 'Tim', 'Troy', 'Maggi']"
      ]
     },
     "execution_count": 52,
     "metadata": {},
     "output_type": "execute_result"
    }
   ],
   "source": [
    "names.append('Maggi') # append Maggi at the end of the list\n",
    "names"
   ]
  },
  {
   "cell_type": "code",
   "execution_count": 53,
   "metadata": {},
   "outputs": [
    {
     "data": {
      "text/plain": [
       "['Maggi', 'Troy', 'Tim', 'Sally', 'Nick', 'John', 'Hari', 'Hari', 'Dave']"
      ]
     },
     "execution_count": 53,
     "metadata": {},
     "output_type": "execute_result"
    }
   ],
   "source": [
    "names.reverse() # Reverse the List\n",
    "names"
   ]
  },
  {
   "cell_type": "code",
   "execution_count": 54,
   "metadata": {},
   "outputs": [
    {
     "data": {
      "text/plain": [
       "['Dave', 'Hari', 'Hari', 'John', 'Maggi', 'Nick', 'Sally', 'Tim', 'Troy']"
      ]
     },
     "execution_count": 54,
     "metadata": {},
     "output_type": "execute_result"
    }
   ],
   "source": [
    "names.sort() # Sorts the List inplace\n",
    "names"
   ]
  },
  {
   "cell_type": "code",
   "execution_count": 41,
   "metadata": {},
   "outputs": [
    {
     "data": {
      "text/plain": [
       "[0, 1, 4, 9, 16, 25, 36, 49, 64, 81]"
      ]
     },
     "execution_count": 41,
     "metadata": {},
     "output_type": "execute_result"
    }
   ],
   "source": [
    "#List comprehensions\n",
    "squares=[] # create an empty list\n",
    "for i in range(10): # does not take the last index so the loop will iterate from 0 to 9\n",
    "    squares.append(i**2)\n",
    "squares"
   ]
  },
  {
   "cell_type": "code",
   "execution_count": 43,
   "metadata": {},
   "outputs": [
    {
     "data": {
      "text/plain": [
       "[0, 1, 8, 27, 64, 125, 216, 343, 512, 729]"
      ]
     },
     "execution_count": 43,
     "metadata": {},
     "output_type": "execute_result"
    }
   ],
   "source": [
    "#The above for loop can be replaced with one single line\n",
    "cubes =[]\n",
    "cubes = [i**3 for i in range(10)]\n",
    "cubes"
   ]
  },
  {
   "cell_type": "code",
   "execution_count": 44,
   "metadata": {},
   "outputs": [
    {
     "data": {
      "text/plain": [
       "[0, 1, 8, 27, 125, 216, 343, 512, 729]"
      ]
     },
     "execution_count": 44,
     "metadata": {},
     "output_type": "execute_result"
    }
   ],
   "source": [
    "del cubes[4] # deletes the 4th element\n",
    "cubes"
   ]
  },
  {
   "cell_type": "code",
   "execution_count": 45,
   "metadata": {},
   "outputs": [
    {
     "data": {
      "text/plain": [
       "[[3, 9, 12], [4, 16, 64], [2, 4, 8]]"
      ]
     },
     "execution_count": 45,
     "metadata": {},
     "output_type": "execute_result"
    }
   ],
   "source": [
    "arr1=[[3,9,12],\n",
    "     [4,16, 64],\n",
    "     [2,4,8]]\n",
    "arr1"
   ]
  },
  {
   "cell_type": "code",
   "execution_count": 46,
   "metadata": {},
   "outputs": [
    {
     "data": {
      "text/plain": [
       "[(3, 4, 2), (9, 16, 4), (12, 64, 8)]"
      ]
     },
     "execution_count": 46,
     "metadata": {},
     "output_type": "execute_result"
    }
   ],
   "source": [
    "list(zip(*arr1)) # transpose "
   ]
  },
  {
   "cell_type": "code",
   "execution_count": 47,
   "metadata": {},
   "outputs": [
    {
     "data": {
      "text/plain": [
       "True"
      ]
     },
     "execution_count": 47,
     "metadata": {},
     "output_type": "execute_result"
    }
   ],
   "source": [
    "27 in cubes"
   ]
  },
  {
   "cell_type": "code",
   "execution_count": 56,
   "metadata": {},
   "outputs": [
    {
     "data": {
      "text/plain": [
       "['Dave', 'Hari', 'Hari', 'John', 'Maggi', 'Nick', 'Sally', 'Tim', 'Troy']"
      ]
     },
     "execution_count": 56,
     "metadata": {},
     "output_type": "execute_result"
    }
   ],
   "source": [
    "names"
   ]
  },
  {
   "cell_type": "code",
   "execution_count": 57,
   "metadata": {},
   "outputs": [
    {
     "data": {
      "text/plain": [
       "False"
      ]
     },
     "execution_count": 57,
     "metadata": {},
     "output_type": "execute_result"
    }
   ],
   "source": [
    "'maggi' in names # search maggi in names"
   ]
  },
  {
   "cell_type": "code",
   "execution_count": 50,
   "metadata": {},
   "outputs": [
    {
     "data": {
      "text/plain": [
       "True"
      ]
     },
     "execution_count": 50,
     "metadata": {},
     "output_type": "execute_result"
    }
   ],
   "source": [
    "'John' in names"
   ]
  },
  {
   "cell_type": "code",
   "execution_count": 55,
   "metadata": {},
   "outputs": [
    {
     "data": {
      "text/plain": [
       "True"
      ]
     },
     "execution_count": 55,
     "metadata": {},
     "output_type": "execute_result"
    }
   ],
   "source": [
    "'Maggi' in names"
   ]
  },
  {
   "cell_type": "code",
   "execution_count": 28,
   "metadata": {},
   "outputs": [],
   "source": [
    "mydict = {\"message\": {\"hello\": 123456, \"hi\":True}, \"message_1\": {\"hell\": 123456, \"heaven\":True}}\n",
    "\n",
    "        "
   ]
  },
  {
   "cell_type": "code",
   "execution_count": 29,
   "metadata": {},
   "outputs": [
    {
     "name": "stdout",
     "output_type": "stream",
     "text": [
      "123456\n",
      "True\n",
      "True\n",
      "dict_keys(['hello', 'hi'])\n"
     ]
    }
   ],
   "source": [
    "for key in mydict.keys():\n",
    "    if key == \"message\":\n",
    "        for  v in mydict[\"message\"].values():\n",
    "            print(v)\n",
    "            if v == True :\n",
    "                print(v)\n",
    "                print(mydict[\"message\"].keys())"
   ]
  },
  {
   "cell_type": "code",
   "execution_count": 30,
   "metadata": {},
   "outputs": [
    {
     "name": "stdout",
     "output_type": "stream",
     "text": [
      "message {'hello': 123456, 'hi': True}\n",
      "message_1 {'hell': 123456, 'heaven': True}\n"
     ]
    }
   ],
   "source": [
    "for key, val in mydict.items():\n",
    "    \n",
    "    print(key, val)"
   ]
  },
  {
   "cell_type": "code",
   "execution_count": 101,
   "metadata": {},
   "outputs": [],
   "source": [
    "store = \"{1000:True, 200:true}\""
   ]
  },
  {
   "cell_type": "code",
   "execution_count": 110,
   "metadata": {},
   "outputs": [
    {
     "name": "stdout",
     "output_type": "stream",
     "text": [
      "{1000:True, 200:true}\n",
      "1000\n",
      "200\n",
      "{1000: True, 200: True}\n"
     ]
    }
   ],
   "source": [
    "import re\n",
    "import nltk\n",
    "from nltk.tokenize import sent_tokenize, word_tokenize\n",
    "store = \"{1000:True, 200:true}\"\n",
    "print(store)\n",
    "store = re.sub('true', 'True', store.strip())\n",
    "store = re.sub('{', ' ', store.strip())\n",
    "store = re.sub('}', ' ', store.strip())\n",
    "store = re.sub(':', ' ,', store.strip())\n",
    "\n",
    "store_1=[]\n",
    "store_data={}\n",
    "store_1 = word_tokenize(store)\n",
    "\n",
    "for i in store_1:\n",
    "    if i == \"True\":\n",
    "        store_data[store_num] = True\n",
    "    elif i == \",\":\n",
    "        continue\n",
    "    else:\n",
    "        store_num= int(i)\n",
    "        print(store_num)\n",
    "print(store_data)"
   ]
  },
  {
   "cell_type": "code",
   "execution_count": 22,
   "metadata": {},
   "outputs": [
    {
     "name": "stdout",
     "output_type": "stream",
     "text": [
      "1000\n",
      "200\n",
      "{1000: True, 200: True}\n"
     ]
    }
   ],
   "source": [
    "import nltk\n",
    "from nltk.tokenize import sent_tokenize, word_tokenize\n",
    "import re\n",
    "store_1=[]\n",
    "store_data={}\n",
    "store_1 = word_tokenize(store)\n",
    "st0re_num=0\n",
    "for i in store_1:\n",
    "    if i == \"True\":\n",
    "        store_data[store_num] = True\n",
    "    elif i == \",\":\n",
    "        continue\n",
    "    else:\n",
    "        store_num= int(i)\n",
    "        print(store_num)\n",
    "print(store_data)\n",
    "        \n",
    "\n",
    "    "
   ]
  },
  {
   "cell_type": "code",
   "execution_count": 102,
   "metadata": {},
   "outputs": [],
   "source": []
  },
  {
   "cell_type": "code",
   "execution_count": 122,
   "metadata": {
    "scrolled": true
   },
   "outputs": [
    {
     "name": "stdout",
     "output_type": "stream",
     "text": [
      "1000:0, 200:100, 1:100, 2:0, 100:10\n",
      "['1000:0', ',', '200:100', ',', '1:100', ',', '2:0', ',', '100:10']\n",
      "{1000: 0, 200: 100, 1: 100, 2: 0, 100: 10}\n"
     ]
    }
   ],
   "source": [
    "#store Inventory\n",
    "import re\n",
    "import nltk\n",
    "from nltk.tokenize import sent_tokenize, word_tokenize\n",
    "store = \"{1000:, 200:100, 1:100, 2:, 100:10}\"\n",
    "store = store.replace(\"{\", \"\")\n",
    "store = store.replace(\"}\", \"\")\n",
    "store=re.sub(\":,\", \":0,\", store.strip())\n",
    "print(store)\n",
    "l = len(store)\n",
    "if store[l-1]==\":\":\n",
    "    store= store + \"0\"\n",
    "word= word_tokenize(store)\n",
    "print(word)\n",
    "store_inv={}\n",
    "for i in word:\n",
    "    if i !=\",\":\n",
    "        st_inv =i.split(\":\")\n",
    "        for j in st_inv:\n",
    "            store_inv.update({int(st_inv[0]): int(st_inv[1])})\n",
    "print(store_inv)    "
   ]
  },
  {
   "cell_type": "code",
   "execution_count": 123,
   "metadata": {},
   "outputs": [
    {
     "name": "stdout",
     "output_type": "stream",
     "text": [
      "{1000:True, 200:true}\n",
      "1000\n",
      "200\n",
      "{1000: True, 200: True}\n"
     ]
    }
   ],
   "source": [
    "import re\n",
    "import nltk\n",
    "from nltk.tokenize import sent_tokenize, word_tokenize\n",
    "store = \"{1000:True, 200:true}\"\n",
    "print(store)\n",
    "store = re.sub('true', 'True', store.strip())\n",
    "store = re.sub('{', ' ', store.strip())\n",
    "store = re.sub('}', ' ', store.strip())\n",
    "store = re.sub(':', ' ,', store.strip())\n",
    "\n",
    "store_1=[]\n",
    "store_data={}\n",
    "store_1 = word_tokenize(store)\n",
    "\n",
    "for i in store_1:\n",
    "    if i == \"True\":\n",
    "        store_data[store_num] = True\n",
    "    elif i == \",\":\n",
    "        continue\n",
    "    else:\n",
    "        store_num= int(i)\n",
    "        print(store_num)\n",
    "print(store_data)"
   ]
  },
  {
   "cell_type": "code",
   "execution_count": 124,
   "metadata": {},
   "outputs": [
    {
     "name": "stdout",
     "output_type": "stream",
     "text": [
      "1000 0\n",
      "200 100\n",
      "100\n"
     ]
    }
   ],
   "source": [
    "tot_inv=0\n",
    "for store_search in store_data:\n",
    "    if store_search in store_inv:\n",
    "        print(store_search, store_inv[store_search])\n",
    "        tot_inv+= store_inv[store_search]\n",
    "print(tot_inv)"
   ]
  },
  {
   "cell_type": "code",
   "execution_count": null,
   "metadata": {},
   "outputs": [],
   "source": []
  }
 ],
 "metadata": {
  "kernelspec": {
   "display_name": "Python 3",
   "language": "python",
   "name": "python3"
  },
  "language_info": {
   "codemirror_mode": {
    "name": "ipython",
    "version": 3
   },
   "file_extension": ".py",
   "mimetype": "text/x-python",
   "name": "python",
   "nbconvert_exporter": "python",
   "pygments_lexer": "ipython3",
   "version": "3.6.1"
  }
 },
 "nbformat": 4,
 "nbformat_minor": 2
}
