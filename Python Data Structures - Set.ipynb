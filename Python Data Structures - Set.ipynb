{
 "cells": [
  {
   "cell_type": "markdown",
   "metadata": {},
   "source": [
    "# SET\n",
    "Set is unordered, and unindexed collection of data\n",
    "\n",
    "Elements in a set are immutable\n",
    "\n",
    "Elements in a set must be unique"
   ]
  },
  {
   "cell_type": "code",
   "execution_count": 26,
   "metadata": {},
   "outputs": [
    {
     "name": "stdout",
     "output_type": "stream",
     "text": [
      "{'Chicago', 'New York', 'Tokyo', 'Mumbai', 'Frankfurt'}\n",
      "{'June', 'March', 'Dec', 'April', 'Jan', 'Aug', 'Sep', 'July', 'Nov', 'Oct', 'Feb', 'May'}\n"
     ]
    }
   ],
   "source": [
    "# creating a set - only unique values will be stored in the set\n",
    "cities ={'Tokyo', 'Frankfurt','Mumbai', 'New York', 'Chicago', 'Tokyo', 'Mumbai'}\n",
    "print(cities)\n",
    "\n",
    "months =set(['Jan', 'Feb','March', 'April', 'May', 'June', 'July', 'Aug', 'Sep','Oct', 'Nov', 'Dec'])\n",
    "print(months)"
   ]
  },
  {
   "cell_type": "code",
   "execution_count": 2,
   "metadata": {},
   "outputs": [
    {
     "name": "stdout",
     "output_type": "stream",
     "text": [
      "June\n",
      "March\n",
      "Dec\n",
      "April\n",
      "Jan\n",
      "Aug\n",
      "Sep\n",
      "July\n",
      "Nov\n",
      "Oct\n",
      "Feb\n",
      "May\n"
     ]
    }
   ],
   "source": [
    "# Accessing elements in a set\n",
    "for i in months:\n",
    "    print(i)"
   ]
  },
  {
   "cell_type": "code",
   "execution_count": 3,
   "metadata": {},
   "outputs": [
    {
     "data": {
      "text/plain": [
       "False"
      ]
     },
     "execution_count": 3,
     "metadata": {},
     "output_type": "execute_result"
    }
   ],
   "source": [
    "# to check if an element is present in the set\n",
    "'Paris' in cities"
   ]
  },
  {
   "cell_type": "code",
   "execution_count": 4,
   "metadata": {},
   "outputs": [
    {
     "data": {
      "text/plain": [
       "True"
      ]
     },
     "execution_count": 4,
     "metadata": {},
     "output_type": "execute_result"
    }
   ],
   "source": [
    "'Tokyo' in cities\n"
   ]
  },
  {
   "cell_type": "code",
   "execution_count": 27,
   "metadata": {},
   "outputs": [
    {
     "data": {
      "text/plain": [
       "{'Chicago', 'Frankfurt', 'Mumbai', 'New York', 'Paris', 'Tokyo'}"
      ]
     },
     "execution_count": 27,
     "metadata": {},
     "output_type": "execute_result"
    }
   ],
   "source": [
    "# Adding element to the existsing set\n",
    "cities.add('Paris')\n",
    "cities"
   ]
  },
  {
   "cell_type": "code",
   "execution_count": 28,
   "metadata": {},
   "outputs": [
    {
     "data": {
      "text/plain": [
       "{'Beijing',\n",
       " 'Chicago',\n",
       " 'Frankfurt',\n",
       " 'London',\n",
       " 'Mumbai',\n",
       " 'New York',\n",
       " 'Paris',\n",
       " 'San Francisco',\n",
       " 'Tokyo'}"
      ]
     },
     "execution_count": 28,
     "metadata": {},
     "output_type": "execute_result"
    }
   ],
   "source": [
    "cities.update(['Beijing','London','San Francisco'])\n",
    "cities"
   ]
  },
  {
   "cell_type": "code",
   "execution_count": 22,
   "metadata": {},
   "outputs": [
    {
     "data": {
      "text/plain": [
       "{'Beijing',\n",
       " 'Chicago',\n",
       " 'Frankfurt',\n",
       " 'Mumbai',\n",
       " 'New York',\n",
       " 'Paris',\n",
       " 'San Francisco',\n",
       " 'Tokyo'}"
      ]
     },
     "execution_count": 22,
     "metadata": {},
     "output_type": "execute_result"
    }
   ],
   "source": [
    "cities.remove('London')\n",
    "cities"
   ]
  },
  {
   "cell_type": "code",
   "execution_count": 23,
   "metadata": {},
   "outputs": [
    {
     "data": {
      "text/plain": [
       "{'Beijing', 'Chicago', 'Mumbai', 'New York', 'Paris', 'San Francisco', 'Tokyo'}"
      ]
     },
     "execution_count": 23,
     "metadata": {},
     "output_type": "execute_result"
    }
   ],
   "source": [
    "cities.discard('Frankfurt')\n",
    "cities"
   ]
  },
  {
   "cell_type": "code",
   "execution_count": 25,
   "metadata": {},
   "outputs": [
    {
     "data": {
      "text/plain": [
       "{'Beijing', 'Chicago', 'Mumbai', 'New York', 'San Francisco', 'Tokyo'}"
      ]
     },
     "execution_count": 25,
     "metadata": {},
     "output_type": "execute_result"
    }
   ],
   "source": [
    "cities.pop()\n",
    "cities"
   ]
  },
  {
   "cell_type": "code",
   "execution_count": 31,
   "metadata": {},
   "outputs": [
    {
     "data": {
      "text/plain": [
       "set()"
      ]
     },
     "execution_count": 31,
     "metadata": {},
     "output_type": "execute_result"
    }
   ],
   "source": [
    "cities.clear()\n",
    "cities"
   ]
  },
  {
   "cell_type": "code",
   "execution_count": 32,
   "metadata": {},
   "outputs": [
    {
     "name": "stdout",
     "output_type": "stream",
     "text": [
      "{'Chicago', 'New York', 'Tokyo', 'Mumbai', 'Frankfurt'}\n",
      "{'Singapore', 'Chicago', 'New York', 'Tokyo', 'Mumbai', 'Frankfurt'}\n",
      "{'Chicago', 'New York', 'Tokyo', 'Mumbai', 'Frankfurt'}\n"
     ]
    }
   ],
   "source": [
    "cities ={'Tokyo', 'Frankfurt','Mumbai', 'New York', 'Chicago'}\n",
    "copy_cities = cities.copy()\n",
    "print(copy_cities)\n",
    "\n",
    "copy_cities.add('Singapore')\n",
    "print(copy_cities)\n",
    "\n",
    "print(cities)"
   ]
  },
  {
   "cell_type": "code",
   "execution_count": 33,
   "metadata": {},
   "outputs": [
    {
     "data": {
      "text/plain": [
       "5"
      ]
     },
     "execution_count": 33,
     "metadata": {},
     "output_type": "execute_result"
    }
   ],
   "source": [
    "len(cities)"
   ]
  },
  {
   "cell_type": "code",
   "execution_count": 34,
   "metadata": {},
   "outputs": [
    {
     "data": {
      "text/plain": [
       "6"
      ]
     },
     "execution_count": 34,
     "metadata": {},
     "output_type": "execute_result"
    }
   ],
   "source": [
    "len(copy_cities)"
   ]
  },
  {
   "cell_type": "code",
   "execution_count": 35,
   "metadata": {},
   "outputs": [
    {
     "data": {
      "text/plain": [
       "{2, 3, 4, 6, 8, 9, 10, 12, 15}"
      ]
     },
     "execution_count": 35,
     "metadata": {},
     "output_type": "execute_result"
    }
   ],
   "source": [
    "# mathematical set operation\n",
    "set_muliple_2 ={2,4,6,8,10,12}\n",
    "set_muliple_3 ={3,6,9,12,15}\n",
    "set_muliple_2.union(set_muliple_3)"
   ]
  },
  {
   "cell_type": "code",
   "execution_count": 36,
   "metadata": {},
   "outputs": [
    {
     "data": {
      "text/plain": [
       "{6, 12}"
      ]
     },
     "execution_count": 36,
     "metadata": {},
     "output_type": "execute_result"
    }
   ],
   "source": [
    "set_muliple_2.intersection(set_muliple_3)"
   ]
  },
  {
   "cell_type": "code",
   "execution_count": 39,
   "metadata": {},
   "outputs": [
    {
     "data": {
      "text/plain": [
       "{2, 4, 8, 10}"
      ]
     },
     "execution_count": 39,
     "metadata": {},
     "output_type": "execute_result"
    }
   ],
   "source": [
    "set_muliple_2.difference(set_muliple_3)"
   ]
  },
  {
   "cell_type": "code",
   "execution_count": 40,
   "metadata": {},
   "outputs": [
    {
     "data": {
      "text/plain": [
       "{2, 4, 8, 10}"
      ]
     },
     "execution_count": 40,
     "metadata": {},
     "output_type": "execute_result"
    }
   ],
   "source": [
    "set_muliple_2 - set_muliple_3"
   ]
  },
  {
   "cell_type": "code",
   "execution_count": 41,
   "metadata": {},
   "outputs": [
    {
     "data": {
      "text/plain": [
       "{2, 3, 4, 8, 9, 10, 15}"
      ]
     },
     "execution_count": 41,
     "metadata": {},
     "output_type": "execute_result"
    }
   ],
   "source": [
    "set_muliple_2 ^ set_muliple_3"
   ]
  },
  {
   "cell_type": "code",
   "execution_count": null,
   "metadata": {},
   "outputs": [],
   "source": []
  }
 ],
 "metadata": {
  "kernelspec": {
   "display_name": "Python 3",
   "language": "python",
   "name": "python3"
  },
  "language_info": {
   "codemirror_mode": {
    "name": "ipython",
    "version": 3
   },
   "file_extension": ".py",
   "mimetype": "text/x-python",
   "name": "python",
   "nbconvert_exporter": "python",
   "pygments_lexer": "ipython3",
   "version": "3.6.1"
  }
 },
 "nbformat": 4,
 "nbformat_minor": 2
}
