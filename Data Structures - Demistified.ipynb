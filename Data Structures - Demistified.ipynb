{
 "cells": [
  {
   "cell_type": "markdown",
   "metadata": {},
   "source": [
    "What are different Data Structures in Python?\n",
    "1. List\n",
    "2. Set\n",
    "3. Tuple\n",
    "4. Dictionary"
   ]
  },
  {
   "cell_type": "markdown",
   "metadata": {},
   "source": [
    "What is a sequence?\n",
    "Sequnece is generic term for any ordered set\n",
    "\n",
    "includes List, Tuples and Strings"
   ]
  },
  {
   "cell_type": "markdown",
   "metadata": {},
   "source": [
    "What is a Data Structure?\n",
    "\n",
    "Data Structures are different ways of Organizing and storing data and then efficiently retrieving it"
   ]
  },
  {
   "cell_type": "markdown",
   "metadata": {},
   "source": [
    "###### List\n",
    "\n",
    "1. It is a collection, which is ordered and changable\n",
    "2. Can have Duplicate values\n",
    "3. Data Type can be different\n",
    "4. Can be written as comma separted values within square brackets\n"
   ]
  },
  {
   "cell_type": "markdown",
   "metadata": {},
   "source": [
    "#### Common List Methods and Description\n",
    "    Method\t      Description\n",
    "    append()\tAdds an element at the end of the list\n",
    "    clear()\t    Removes all the elements from the list\n",
    "    copy()\t    Returns a copy of the list\n",
    "    count()\t    Returns the number of elements with the specified value\n",
    "    extend()\tAdd the elements of a list (or any iterable), to the end of the current list\n",
    "    index()\t    Returns the index of the first element with the specified value\n",
    "    insert()\tAdds an element at the specified position\n",
    "    pop()\t    Removes the element at the specified position\n",
    "    remove()\tRemoves the first item with the specified value\n",
    "    reverse()\tReverses the order of the list\n",
    "    sort()\t    Sorts the list"
   ]
  },
  {
   "cell_type": "code",
   "execution_count": 56,
   "metadata": {},
   "outputs": [
    {
     "name": "stdout",
     "output_type": "stream",
     "text": [
      "['New York', 'Chicago', 'California', 'Denver', 'Seattel']\n"
     ]
    }
   ],
   "source": [
    "# example of List containing City name\n",
    "# Creating a List\n",
    "city_names =['New York', 'Chicago', 'California', 'Denver', 'Seattel']\n",
    "print(city_names)\n"
   ]
  },
  {
   "cell_type": "code",
   "execution_count": 57,
   "metadata": {},
   "outputs": [
    {
     "name": "stdout",
     "output_type": "stream",
     "text": [
      "['New York', 'Chicago', 'California', 'Denver', 'Seattel', 'Dallas']\n"
     ]
    }
   ],
   "source": [
    "# Add an item to List\n",
    "city_names.append('Dallas')\n",
    "print(city_names)"
   ]
  },
  {
   "cell_type": "code",
   "execution_count": 58,
   "metadata": {},
   "outputs": [
    {
     "name": "stdout",
     "output_type": "stream",
     "text": [
      "['New York', 'Chicago', 'California', 'Denver', 'Seattel', 'Dallas', 'Chicago']\n"
     ]
    }
   ],
   "source": [
    "# Adding a duplicate value\n",
    "city_names.append('Chicago')\n",
    "print(city_names)"
   ]
  },
  {
   "cell_type": "code",
   "execution_count": 59,
   "metadata": {},
   "outputs": [
    {
     "name": "stdout",
     "output_type": "stream",
     "text": [
      "['New York', 'Chicago', 'California', 'Denver', 'Seattel', 'Dallas', 'Chicago', 100]\n"
     ]
    }
   ],
   "source": [
    "# different Data Type\n",
    "city_names.append(100)\n",
    "print(city_names)"
   ]
  },
  {
   "cell_type": "code",
   "execution_count": 60,
   "metadata": {},
   "outputs": [
    {
     "name": "stdout",
     "output_type": "stream",
     "text": [
      "['New York', 'Chicago', 'California', 'Denver', 'Seattel', 'Dallas', 'Chicago']\n"
     ]
    }
   ],
   "source": [
    "# deleting the value from list\n",
    "city_names.remove(100)\n",
    "print(city_names)"
   ]
  },
  {
   "cell_type": "code",
   "execution_count": 61,
   "metadata": {},
   "outputs": [
    {
     "name": "stdout",
     "output_type": "stream",
     "text": [
      "California\n"
     ]
    }
   ],
   "source": [
    "# accessing List values\n",
    "# accessing the third element from city_names\n",
    "print(city_names[2])"
   ]
  },
  {
   "cell_type": "code",
   "execution_count": 51,
   "metadata": {},
   "outputs": [
    {
     "name": "stdout",
     "output_type": "stream",
     "text": [
      "7\n"
     ]
    }
   ],
   "source": [
    "# fidning length of the list city_names\n",
    "print(len(city_names))"
   ]
  },
  {
   "cell_type": "code",
   "execution_count": 62,
   "metadata": {},
   "outputs": [
    {
     "name": "stdout",
     "output_type": "stream",
     "text": [
      "0   New York\n",
      "1   Chicago\n",
      "2   California\n",
      "3   Denver\n",
      "4   Seattel\n",
      "5   Dallas\n",
      "6   Chicago\n"
     ]
    }
   ],
   "source": [
    "#iterating thru the list\n",
    "for i in range(len(city_names)):\n",
    "    print(i, \" \", city_names[i])"
   ]
  },
  {
   "cell_type": "code",
   "execution_count": 63,
   "metadata": {},
   "outputs": [
    {
     "name": "stdout",
     "output_type": "stream",
     "text": [
      "['New York', 'Chicago', 'California', 'Denver', 'Seattel', 'Dallas', 'Chicago']\n"
     ]
    }
   ],
   "source": [
    "# efficient list comprehension\n",
    "print( [city_names[x] for x in range(len(city_names)) ])"
   ]
  },
  {
   "cell_type": "code",
   "execution_count": 64,
   "metadata": {},
   "outputs": [
    {
     "name": "stdout",
     "output_type": "stream",
     "text": [
      "['New York', 'Chicago', 'California', 'Denver', 'Seattel', 'Dallas', 'Chicago', 'Dallas']\n",
      "2\n"
     ]
    }
   ],
   "source": [
    "#counting no. of instances for Dallas\n",
    "# Add an item to List\n",
    "city_names.append('Dallas')\n",
    "print(city_names)\n",
    "print(city_names.count('Dallas'))"
   ]
  },
  {
   "cell_type": "code",
   "execution_count": 65,
   "metadata": {},
   "outputs": [
    {
     "name": "stdout",
     "output_type": "stream",
     "text": [
      "['Dallas', 'Chicago', 'Dallas', 'Seattel', 'Denver', 'California', 'Chicago', 'New York']\n"
     ]
    }
   ],
   "source": [
    "#reversing elements of a List\n",
    "city_names.reverse()\n",
    "print(city_names)"
   ]
  },
  {
   "cell_type": "code",
   "execution_count": 66,
   "metadata": {},
   "outputs": [
    {
     "name": "stdout",
     "output_type": "stream",
     "text": [
      "['California', 'Chicago', 'Chicago', 'Dallas', 'Dallas', 'Denver', 'New York', 'Seattel']\n"
     ]
    }
   ],
   "source": [
    "# sorts the list \n",
    "city_names.sort()\n",
    "print(city_names)"
   ]
  },
  {
   "cell_type": "markdown",
   "metadata": {},
   "source": [
    "###### Set\n",
    "1. Is a collection that is unordered and unindexed\n",
    "2. can be changed\n",
    "3. cannot have duplicates\n",
    "4. useful to hold Unique values\n",
    "5. supports mathematical operations like union, intersection, symmetry, difference\n",
    "6. { } are used to create sets"
   ]
  },
  {
   "cell_type": "code",
   "execution_count": 67,
   "metadata": {},
   "outputs": [
    {
     "name": "stdout",
     "output_type": "stream",
     "text": [
      "{'Fankfurt', 'Tokyo', 'New York', 'Mumbai', 'Chicago'}\n"
     ]
    }
   ],
   "source": [
    "# creating a set - only Unique values will exists\n",
    "cities ={'Tokyo', 'Fankfurt','Mumbai', 'New York', 'Chicago', 'Tokyo', 'Mumbai'}\n",
    "print(cities)"
   ]
  },
  {
   "cell_type": "code",
   "execution_count": 68,
   "metadata": {},
   "outputs": [
    {
     "data": {
      "text/plain": [
       "True"
      ]
     },
     "execution_count": 68,
     "metadata": {},
     "output_type": "execute_result"
    }
   ],
   "source": [
    "#checking if Mumbai is in the set\n",
    "'Mumbai' in cities"
   ]
  },
  {
   "cell_type": "code",
   "execution_count": 69,
   "metadata": {},
   "outputs": [
    {
     "data": {
      "text/plain": [
       "False"
      ]
     },
     "execution_count": 69,
     "metadata": {},
     "output_type": "execute_result"
    }
   ],
   "source": [
    "'SFO'  in cities"
   ]
  },
  {
   "cell_type": "code",
   "execution_count": 71,
   "metadata": {},
   "outputs": [
    {
     "name": "stdout",
     "output_type": "stream",
     "text": [
      "{'Mumbai', 'Fankfurt', 'Tokyo'}\n"
     ]
    }
   ],
   "source": [
    "# difference between cities, which is a set and city_names, which is a List\n",
    "# since city_names is a List, casting it to a set and then taking a difference\n",
    "print(cities - set(city_names))\n"
   ]
  },
  {
   "cell_type": "code",
   "execution_count": 73,
   "metadata": {},
   "outputs": [
    {
     "name": "stdout",
     "output_type": "stream",
     "text": [
      "{'Seattel', 'Fankfurt', 'Tokyo', 'New York', 'California', 'Dallas', 'Denver', 'Mumbai', 'Chicago'}\n"
     ]
    }
   ],
   "source": [
    "# Union between cities, which is a set and city_names, which is a List\n",
    "# since city_names is a List, casting it to a set and then taking a Union\n",
    "print(cities | set(city_names))"
   ]
  },
  {
   "cell_type": "code",
   "execution_count": 74,
   "metadata": {},
   "outputs": [
    {
     "name": "stdout",
     "output_type": "stream",
     "text": [
      "{'New York', 'Chicago'}\n"
     ]
    }
   ],
   "source": [
    "# Common between cities, which is a set and city_names, which is a List\n",
    "# since city_names is a List, casting it to a set and then taking a intersection\n",
    "print(cities & set(city_names))"
   ]
  },
  {
   "cell_type": "code",
   "execution_count": 75,
   "metadata": {},
   "outputs": [
    {
     "name": "stdout",
     "output_type": "stream",
     "text": [
      "{'Seattel', 'Fankfurt', 'California', 'Dallas', 'Denver', 'Mumbai', 'Tokyo'}\n"
     ]
    }
   ],
   "source": [
    "# Unique values but present in both between cities, which is a set and city_names, which is a List\n",
    "# since city_names is a List, casting it to a set \n",
    "print(cities ^ set(city_names))"
   ]
  },
  {
   "cell_type": "code",
   "execution_count": 77,
   "metadata": {},
   "outputs": [
    {
     "name": "stdout",
     "output_type": "stream",
     "text": [
      "{'Omaha', 'New York', 'San Francisco', 'Little Rock', 'Dallas', 'Los Angeles', 'Chicago'}\n"
     ]
    }
   ],
   "source": [
    "# sets can also be created by using set()\n",
    "cities_in_usa =set(('San Francisco', 'Los Angeles', 'New York','Chicago','Omaha', 'Little Rock', 'Dallas'))\n",
    "print(cities_in_usa)"
   ]
  },
  {
   "cell_type": "code",
   "execution_count": 79,
   "metadata": {},
   "outputs": [
    {
     "name": "stdout",
     "output_type": "stream",
     "text": [
      "{'Omaha', 'New York', 'San Francisco', 'Little Rock', 'Dallas', 'New Jersey', 'Los Angeles', 'Chicago'}\n"
     ]
    }
   ],
   "source": [
    "# adding another city to the set\n",
    "cities_in_usa.add('New Jersey')\n",
    "print(cities_in_usa)"
   ]
  },
  {
   "cell_type": "code",
   "execution_count": 80,
   "metadata": {},
   "outputs": [
    {
     "name": "stdout",
     "output_type": "stream",
     "text": [
      "{'New York', 'San Francisco', 'Little Rock', 'Dallas', 'New Jersey', 'Los Angeles', 'Chicago'}\n"
     ]
    }
   ],
   "source": [
    "# removing an element from a set\n",
    "cities_in_usa.remove('Omaha')\n",
    "print(cities_in_usa)"
   ]
  },
  {
   "cell_type": "code",
   "execution_count": 81,
   "metadata": {},
   "outputs": [
    {
     "name": "stdout",
     "output_type": "stream",
     "text": [
      "7\n"
     ]
    }
   ],
   "source": [
    "# length of the set\n",
    "print(len(cities_in_usa))"
   ]
  },
  {
   "cell_type": "code",
   "execution_count": null,
   "metadata": {},
   "outputs": [],
   "source": [
    "print(cities_in_usa)"
   ]
  },
  {
   "cell_type": "code",
   "execution_count": 86,
   "metadata": {},
   "outputs": [
    {
     "name": "stdout",
     "output_type": "stream",
     "text": [
      "['Dallas']\n"
     ]
    }
   ],
   "source": [
    "# using List comprehension for sets\n",
    "# this is more effiecient than a regular for loop\n",
    "print([x  for x in cities_in_usa if x in 'Dallas' ])"
   ]
  },
  {
   "cell_type": "code",
   "execution_count": 89,
   "metadata": {},
   "outputs": [
    {
     "name": "stdout",
     "output_type": "stream",
     "text": [
      "['j', 'n', 'd', 'u', 'l', 'o', 'k', 'e']\n"
     ]
    }
   ],
   "source": [
    "# another exmaple for list comprehension for set\n",
    "print([x for x in set('ancdjcdkdlruroer') if x not in 'rac' ])"
   ]
  },
  {
   "cell_type": "markdown",
   "metadata": {},
   "source": [
    "###### Tuple\n",
    "1. consists of a number of values separated by commas\n",
    "2. Tuples are immutable or unchangable - once defined you cannot edit,add, delete values\n",
    "3. can contain duplicate values\n",
    "4. Useful when you do not want anyone to manipulate the data\n"
   ]
  },
  {
   "cell_type": "code",
   "execution_count": 93,
   "metadata": {},
   "outputs": [
    {
     "name": "stdout",
     "output_type": "stream",
     "text": [
      "('New Delhi', 'Mumbai', 'Chennai', 'Noida')\n"
     ]
    }
   ],
   "source": [
    "# creating a Tuple\n",
    "City=(\"New Delhi\", \"Mumbai\", \"Chennai\", \"Noida\")\n",
    "print(City)"
   ]
  },
  {
   "cell_type": "code",
   "execution_count": 97,
   "metadata": {},
   "outputs": [
    {
     "name": "stdout",
     "output_type": "stream",
     "text": [
      "('Paris', 'Geneva', 'London', 'Frankfurt', 'London')\n"
     ]
    }
   ],
   "source": [
    "# creating Tuple from ctor with dupliate values\n",
    "city_tuple = tuple((\"Paris\", \"Geneva\", \"London\", \"Frankfurt\", \"London\"))\n",
    "print(city_tuple)"
   ]
  },
  {
   "cell_type": "code",
   "execution_count": 95,
   "metadata": {},
   "outputs": [
    {
     "name": "stdout",
     "output_type": "stream",
     "text": [
      "New Delhi\n",
      "Noida\n"
     ]
    }
   ],
   "source": [
    "# Accessing a value from Tuple using index which starts from 0\n",
    "print(City[0])\n",
    "print(City[3])"
   ]
  },
  {
   "cell_type": "code",
   "execution_count": 100,
   "metadata": {},
   "outputs": [
    {
     "name": "stdout",
     "output_type": "stream",
     "text": [
      "City element count 4\n",
      "City Tuple element count 5\n"
     ]
    }
   ],
   "source": [
    "# No. of element s in a Tuple\n",
    "print(\"City element count\", len(City))\n",
    "print(\"City Tuple element count\", len(city_tuple))"
   ]
  },
  {
   "cell_type": "markdown",
   "metadata": {},
   "source": [
    "###### Dictionary\n",
    "1. It unordered collection\n",
    "2. Can be changed \n",
    "3. Can be indexed by keys. Keys can be string or Number or Tuples containing only String, numbers\n",
    "4. cannot contain duplicate values\n",
    "5. A set of Key:value pair\n",
    "6. Pair of empty braces creates a Dictionary like a= {}\n"
   ]
  },
  {
   "cell_type": "code",
   "execution_count": 2,
   "metadata": {},
   "outputs": [
    {
     "name": "stdout",
     "output_type": "stream",
     "text": [
      "{'Arkansas': 'Little Rock', 'Wisconsin': 'Madison', 'California': 'Sacramento', 'Iowa': 'Des Moines'}\n"
     ]
    }
   ],
   "source": [
    "# Creating dcitinary with key value Pair\n",
    "State_capital ={'Arkansas':'Little Rock', 'Wisconsin':'Madison', 'California':'Sacramento', 'Iowa':'Des Moines'}\n",
    "print(State_capital)"
   ]
  },
  {
   "cell_type": "code",
   "execution_count": 1,
   "metadata": {},
   "outputs": [
    {
     "name": "stdout",
     "output_type": "stream",
     "text": [
      "{'India': ['Mumbai', 'New Delhi', 'Chennai'], 'USA': ['New York', 'San Francisco', 'Chicago', ' Los Angeles']}\n"
     ]
    }
   ],
   "source": [
    "# creating a Dictionary\n",
    "cities_in_country ={'India':['Mumbai', 'New Delhi', 'Chennai'],\n",
    "                   'USA':['New York', 'San Francisco', 'Chicago', ' Los Angeles']}\n",
    "print(cities_in_country)"
   ]
  },
  {
   "cell_type": "code",
   "execution_count": 4,
   "metadata": {},
   "outputs": [
    {
     "name": "stdout",
     "output_type": "stream",
     "text": [
      "{'Apple': 'Red', 'Mango': 'Yellow', 'Strawberry': 'Red'}\n"
     ]
    }
   ],
   "source": [
    "# creating Dictionary using ctor\n",
    "fruits = dict([('Apple','Red'), ('Mango','Yellow'), ('Strawberry','Red')])\n",
    "print(fruits)"
   ]
  },
  {
   "cell_type": "code",
   "execution_count": 5,
   "metadata": {},
   "outputs": [
    {
     "name": "stdout",
     "output_type": "stream",
     "text": [
      "['Arkansas', 'California', 'Iowa', 'Wisconsin']\n"
     ]
    }
   ],
   "source": [
    "# sorting Dcitionary\n",
    "print(sorted(State_capital))"
   ]
  },
  {
   "cell_type": "code",
   "execution_count": 6,
   "metadata": {},
   "outputs": [
    {
     "name": "stdout",
     "output_type": "stream",
     "text": [
      "True\n",
      "False\n"
     ]
    }
   ],
   "source": [
    "# finding a key  in a dictionary\n",
    "print('India' in cities_in_country)\n",
    "print('China' in cities_in_country)"
   ]
  },
  {
   "cell_type": "code",
   "execution_count": 7,
   "metadata": {},
   "outputs": [
    {
     "name": "stdout",
     "output_type": "stream",
     "text": [
      "Des Moines\n"
     ]
    }
   ],
   "source": [
    "# retrieving a value by using a key\n",
    "print(State_capital['Iowa'])"
   ]
  },
  {
   "cell_type": "code",
   "execution_count": 11,
   "metadata": {},
   "outputs": [
    {
     "name": "stdout",
     "output_type": "stream",
     "text": [
      "State: Arkansas  Capital  Little Rock\n",
      "State: Wisconsin  Capital  Madison\n",
      "State: California  Capital  Sacramento\n",
      "State: Iowa  Capital  Des Moines\n"
     ]
    }
   ],
   "source": [
    "# looping thru dictionary\n",
    "for k,v in State_capital.items():\n",
    "    print(\"State:\", k,\" Capital: \", v)"
   ]
  },
  {
   "cell_type": "code",
   "execution_count": 50,
   "metadata": {},
   "outputs": [
    {
     "name": "stdout",
     "output_type": "stream",
     "text": [
      "{'India': ['Mumbai', 'New Delhi', 'Chennai'], 'USA': ['New York', 'San Francisco', 'Chicago', ' Los Angeles']}\n",
      "<generator object <genexpr> at 0x000002308D4FC0A0>\n"
     ]
    }
   ],
   "source": [
    "#List comprehension\n",
    "print({k:v for (k,v) in cities_in_country.items()})\n",
    "print(k for k in cities_in_country.items())"
   ]
  },
  {
   "cell_type": "code",
   "execution_count": 34,
   "metadata": {},
   "outputs": [
    {
     "name": "stdout",
     "output_type": "stream",
     "text": [
      "{'Arkansas': 'Little Rock'}\n"
     ]
    }
   ],
   "source": [
    "#Dictionary comprehension with if condition\n",
    "print({k:v for (k,v) in State_capital.items() if k == 'Arkansas'})"
   ]
  },
  {
   "cell_type": "code",
   "execution_count": 29,
   "metadata": {},
   "outputs": [
    {
     "name": "stdout",
     "output_type": "stream",
     "text": [
      "{'Arkansas': 'Little Rock', 'Wisconsin': 'Madison', 'California': 'Sacramento', 'Iowa': 'Des Moines', 'Texas': 'Dallas'}\n"
     ]
    }
   ],
   "source": [
    "#Adding a key  value pair in a dictionary\n",
    "State_capital.update({'Texas' : 'Dallas'})\n",
    "print(State_capital)"
   ]
  },
  {
   "cell_type": "code",
   "execution_count": 52,
   "metadata": {},
   "outputs": [
    {
     "name": "stdout",
     "output_type": "stream",
     "text": [
      "{'India': ['Mumbai', 'New Delhi', 'Chennai'], 'USA': ['New York', 'San Francisco', 'Chicago', ' Los Angeles'], 'France': ['Paris', 'Cannes']}\n"
     ]
    }
   ],
   "source": [
    "#Adding a key  value pair in a dictionary\n",
    "cities_in_country['France']= ['Paris','Cannes']\n",
    "print(cities_in_country)"
   ]
  },
  {
   "cell_type": "code",
   "execution_count": 36,
   "metadata": {},
   "outputs": [
    {
     "name": "stdout",
     "output_type": "stream",
     "text": [
      "{'Arkansas': 'Rogers', 'Wisconsin': 'Madison', 'California': 'Sacramento', 'Iowa': 'Des Moines', 'Texas': 'Dallas'}\n"
     ]
    }
   ],
   "source": [
    "#updating data for a key in a dictionary\n",
    "State_capital['Arkansas'] ='Rogers'\n",
    "print(State_capital)"
   ]
  },
  {
   "cell_type": "code",
   "execution_count": 51,
   "metadata": {},
   "outputs": [
    {
     "name": "stdout",
     "output_type": "stream",
     "text": [
      "dict_values([['Mumbai', 'New Delhi', 'Chennai'], ['New York', 'San Francisco', 'Chicago', ' Los Angeles']])\n"
     ]
    }
   ],
   "source": [
    "# values in a dictionaty\n",
    "print(cities_in_country.values())"
   ]
  },
  {
   "cell_type": "code",
   "execution_count": 53,
   "metadata": {},
   "outputs": [
    {
     "name": "stdout",
     "output_type": "stream",
     "text": [
      "dict_keys(['India', 'USA', 'France'])\n"
     ]
    }
   ],
   "source": [
    "# Keys in a dictionary\n",
    "print(cities_in_country.keys())"
   ]
  },
  {
   "cell_type": "code",
   "execution_count": 54,
   "metadata": {},
   "outputs": [
    {
     "name": "stdout",
     "output_type": "stream",
     "text": [
      "{'Apple': 'Red', 'Mango': 'Yellow', 'Strawberry': 'Red'}\n",
      "{'Apple': 'Red', 'Strawberry': 'Red'}\n"
     ]
    }
   ],
   "source": [
    "# deleting a key value pair from a dictionary\n",
    "print(fruits)\n",
    "del(fruits['Mango'])\n",
    "print(fruits)"
   ]
  },
  {
   "cell_type": "markdown",
   "metadata": {},
   "source": [
    "#### Dataframe\n",
    "1. Two dimensional labeled data structure with different data types\n",
    "2. Dataframe consists of data, columns and index"
   ]
  },
  {
   "cell_type": "code",
   "execution_count": 62,
   "metadata": {},
   "outputs": [],
   "source": [
    "\n",
    "from sklearn.datasets import load_iris\n",
    "import numpy as np\n",
    "import pandas as pd\n"
   ]
  },
  {
   "cell_type": "code",
   "execution_count": 75,
   "metadata": {},
   "outputs": [
    {
     "name": "stdout",
     "output_type": "stream",
     "text": [
      "<class 'pandas.core.frame.DataFrame'>\n",
      "RangeIndex: 74 entries, 0 to 73\n",
      "Data columns (total 4 columns):\n",
      "year          74 non-null int64\n",
      "month         74 non-null object\n",
      "passengers    74 non-null int64\n",
      "Unnamed: 3    0 non-null float64\n",
      "dtypes: float64(1), int64(2), object(1)\n",
      "memory usage: 2.4+ KB\n"
     ]
    }
   ],
   "source": [
    "# reading data into a Dataframe\n",
    "# loading Flights data\n",
    "data_1 = pd.read_csv(\"flights.csv\")\n",
    "data_frame1 = pd.DataFrame(data_1)\n",
    "data_frame1.info()\n"
   ]
  },
  {
   "cell_type": "code",
   "execution_count": 76,
   "metadata": {},
   "outputs": [
    {
     "data": {
      "text/plain": [
       "Index(['year', 'month', 'passengers', 'Unnamed: 3'], dtype='object')"
      ]
     },
     "execution_count": 76,
     "metadata": {},
     "output_type": "execute_result"
    }
   ],
   "source": [
    "# Displaying Columns in the DataFrame\n",
    "data_frame1.columns"
   ]
  },
  {
   "cell_type": "code",
   "execution_count": 79,
   "metadata": {},
   "outputs": [
    {
     "name": "stdout",
     "output_type": "stream",
     "text": [
      "<class 'pandas.core.frame.DataFrame'>\n",
      "RangeIndex: 74 entries, 0 to 73\n",
      "Data columns (total 3 columns):\n",
      "year          74 non-null int64\n",
      "month         74 non-null object\n",
      "passengers    74 non-null int64\n",
      "dtypes: int64(2), object(1)\n",
      "memory usage: 1.8+ KB\n"
     ]
    }
   ],
   "source": [
    "# Removing Unnamed Column from the dataframe\n",
    "data_frame1 = data_frame1.iloc[:,[0,1,2]]\n",
    "data_frame1.info()"
   ]
  },
  {
   "cell_type": "code",
   "execution_count": 80,
   "metadata": {},
   "outputs": [
    {
     "data": {
      "text/plain": [
       "RangeIndex(start=0, stop=74, step=1)"
      ]
     },
     "execution_count": 80,
     "metadata": {},
     "output_type": "execute_result"
    }
   ],
   "source": [
    "data_frame1.index"
   ]
  },
  {
   "cell_type": "code",
   "execution_count": 86,
   "metadata": {},
   "outputs": [
    {
     "name": "stdout",
     "output_type": "stream",
     "text": [
      "70    203\n",
      "71    229\n",
      "72    242\n",
      "73    233\n",
      "Name: passengers, dtype: int64\n"
     ]
    }
   ],
   "source": [
    "# Print data from selected rows and columns\n",
    "print(data_frame1['passengers'][70:])"
   ]
  },
  {
   "cell_type": "code",
   "execution_count": 88,
   "metadata": {},
   "outputs": [
    {
     "data": {
      "text/plain": [
       "year           1949\n",
       "month         March\n",
       "passengers      132\n",
       "Name: 2, dtype: object"
      ]
     },
     "execution_count": 88,
     "metadata": {},
     "output_type": "execute_result"
    }
   ],
   "source": [
    "# Retrieves Data from data Frame for row 3\n",
    "data_frame1.iloc[2]"
   ]
  },
  {
   "cell_type": "code",
   "execution_count": 94,
   "metadata": {},
   "outputs": [
    {
     "data": {
      "text/html": [
       "<div>\n",
       "<style>\n",
       "    .dataframe thead tr:only-child th {\n",
       "        text-align: right;\n",
       "    }\n",
       "\n",
       "    .dataframe thead th {\n",
       "        text-align: left;\n",
       "    }\n",
       "\n",
       "    .dataframe tbody tr th {\n",
       "        vertical-align: top;\n",
       "    }\n",
       "</style>\n",
       "<table border=\"1\" class=\"dataframe\">\n",
       "  <thead>\n",
       "    <tr style=\"text-align: right;\">\n",
       "      <th></th>\n",
       "      <th>Product Id</th>\n",
       "      <th>Description</th>\n",
       "    </tr>\n",
       "  </thead>\n",
       "  <tbody>\n",
       "    <tr>\n",
       "      <th>0</th>\n",
       "      <td>P123</td>\n",
       "      <td>Nike Running Shoes</td>\n",
       "    </tr>\n",
       "    <tr>\n",
       "      <th>1</th>\n",
       "      <td>P234</td>\n",
       "      <td>Dove Shampoo</td>\n",
       "    </tr>\n",
       "    <tr>\n",
       "      <th>2</th>\n",
       "      <td>P345</td>\n",
       "      <td>Pepsi 16OZ. Diet Coke</td>\n",
       "    </tr>\n",
       "    <tr>\n",
       "      <th>3</th>\n",
       "      <td>P999</td>\n",
       "      <td>Good furniture chairs</td>\n",
       "    </tr>\n",
       "    <tr>\n",
       "      <th>4</th>\n",
       "      <td>P567</td>\n",
       "      <td>Comfort sheets</td>\n",
       "    </tr>\n",
       "  </tbody>\n",
       "</table>\n",
       "</div>"
      ],
      "text/plain": [
       "  Product Id            Description\n",
       "0       P123     Nike Running Shoes\n",
       "1       P234           Dove Shampoo\n",
       "2       P345  Pepsi 16OZ. Diet Coke\n",
       "3       P999  Good furniture chairs\n",
       "4       P567         Comfort sheets"
      ]
     },
     "execution_count": 94,
     "metadata": {},
     "output_type": "execute_result"
    }
   ],
   "source": [
    "# Loading data from clipboard\n",
    "product= pd.read_clipboard()\n",
    "product"
   ]
  },
  {
   "cell_type": "code",
   "execution_count": 95,
   "metadata": {},
   "outputs": [
    {
     "data": {
      "text/html": [
       "<div>\n",
       "<style>\n",
       "    .dataframe thead tr:only-child th {\n",
       "        text-align: right;\n",
       "    }\n",
       "\n",
       "    .dataframe thead th {\n",
       "        text-align: left;\n",
       "    }\n",
       "\n",
       "    .dataframe tbody tr th {\n",
       "        vertical-align: top;\n",
       "    }\n",
       "</style>\n",
       "<table border=\"1\" class=\"dataframe\">\n",
       "  <thead>\n",
       "    <tr style=\"text-align: right;\">\n",
       "      <th></th>\n",
       "      <th>Product Id</th>\n",
       "      <th>Brand Name</th>\n",
       "    </tr>\n",
       "  </thead>\n",
       "  <tbody>\n",
       "    <tr>\n",
       "      <th>0</th>\n",
       "      <td>P123</td>\n",
       "      <td>Nike</td>\n",
       "    </tr>\n",
       "    <tr>\n",
       "      <th>1</th>\n",
       "      <td>P234</td>\n",
       "      <td>Dove</td>\n",
       "    </tr>\n",
       "    <tr>\n",
       "      <th>2</th>\n",
       "      <td>P345</td>\n",
       "      <td>Pepsi</td>\n",
       "    </tr>\n",
       "    <tr>\n",
       "      <th>3</th>\n",
       "      <td>P700</td>\n",
       "      <td>Coke</td>\n",
       "    </tr>\n",
       "  </tbody>\n",
       "</table>\n",
       "</div>"
      ],
      "text/plain": [
       "  Product Id Brand Name\n",
       "0       P123       Nike\n",
       "1       P234       Dove\n",
       "2       P345      Pepsi\n",
       "3       P700       Coke"
      ]
     },
     "execution_count": 95,
     "metadata": {},
     "output_type": "execute_result"
    }
   ],
   "source": [
    "brand = pd.read_clipboard()\n",
    "brand"
   ]
  },
  {
   "cell_type": "code",
   "execution_count": 100,
   "metadata": {},
   "outputs": [
    {
     "data": {
      "text/html": [
       "<div>\n",
       "<style>\n",
       "    .dataframe thead tr:only-child th {\n",
       "        text-align: right;\n",
       "    }\n",
       "\n",
       "    .dataframe thead th {\n",
       "        text-align: left;\n",
       "    }\n",
       "\n",
       "    .dataframe tbody tr th {\n",
       "        vertical-align: top;\n",
       "    }\n",
       "</style>\n",
       "<table border=\"1\" class=\"dataframe\">\n",
       "  <thead>\n",
       "    <tr style=\"text-align: right;\">\n",
       "      <th></th>\n",
       "      <th>Product Id</th>\n",
       "      <th>Description</th>\n",
       "      <th>Brand Name</th>\n",
       "    </tr>\n",
       "  </thead>\n",
       "  <tbody>\n",
       "    <tr>\n",
       "      <th>0</th>\n",
       "      <td>P123</td>\n",
       "      <td>Nike Running Shoes</td>\n",
       "      <td>Nike</td>\n",
       "    </tr>\n",
       "    <tr>\n",
       "      <th>1</th>\n",
       "      <td>P234</td>\n",
       "      <td>Dove Shampoo</td>\n",
       "      <td>Dove</td>\n",
       "    </tr>\n",
       "    <tr>\n",
       "      <th>2</th>\n",
       "      <td>P345</td>\n",
       "      <td>Pepsi 16OZ. Diet Coke</td>\n",
       "      <td>Pepsi</td>\n",
       "    </tr>\n",
       "  </tbody>\n",
       "</table>\n",
       "</div>"
      ],
      "text/plain": [
       "  Product Id            Description Brand Name\n",
       "0       P123     Nike Running Shoes       Nike\n",
       "1       P234           Dove Shampoo       Dove\n",
       "2       P345  Pepsi 16OZ. Diet Coke      Pepsi"
      ]
     },
     "execution_count": 100,
     "metadata": {},
     "output_type": "execute_result"
    }
   ],
   "source": [
    "# Merge two data Frame - Innner Join\n",
    "prod_brand = pd.merge(product, brand, on=\"Product Id\")\n",
    "prod_brand"
   ]
  },
  {
   "cell_type": "code",
   "execution_count": 102,
   "metadata": {},
   "outputs": [
    {
     "data": {
      "text/html": [
       "<div>\n",
       "<style>\n",
       "    .dataframe thead tr:only-child th {\n",
       "        text-align: right;\n",
       "    }\n",
       "\n",
       "    .dataframe thead th {\n",
       "        text-align: left;\n",
       "    }\n",
       "\n",
       "    .dataframe tbody tr th {\n",
       "        vertical-align: top;\n",
       "    }\n",
       "</style>\n",
       "<table border=\"1\" class=\"dataframe\">\n",
       "  <thead>\n",
       "    <tr style=\"text-align: right;\">\n",
       "      <th></th>\n",
       "      <th>Product Id</th>\n",
       "      <th>Description</th>\n",
       "      <th>Brand Name</th>\n",
       "    </tr>\n",
       "  </thead>\n",
       "  <tbody>\n",
       "    <tr>\n",
       "      <th>0</th>\n",
       "      <td>P123</td>\n",
       "      <td>Nike Running Shoes</td>\n",
       "      <td>Nike</td>\n",
       "    </tr>\n",
       "    <tr>\n",
       "      <th>1</th>\n",
       "      <td>P234</td>\n",
       "      <td>Dove Shampoo</td>\n",
       "      <td>Dove</td>\n",
       "    </tr>\n",
       "    <tr>\n",
       "      <th>2</th>\n",
       "      <td>P345</td>\n",
       "      <td>Pepsi 16OZ. Diet Coke</td>\n",
       "      <td>Pepsi</td>\n",
       "    </tr>\n",
       "    <tr>\n",
       "      <th>3</th>\n",
       "      <td>P999</td>\n",
       "      <td>Good furniture chairs</td>\n",
       "      <td>NaN</td>\n",
       "    </tr>\n",
       "    <tr>\n",
       "      <th>4</th>\n",
       "      <td>P567</td>\n",
       "      <td>Comfort sheets</td>\n",
       "      <td>NaN</td>\n",
       "    </tr>\n",
       "  </tbody>\n",
       "</table>\n",
       "</div>"
      ],
      "text/plain": [
       "  Product Id            Description Brand Name\n",
       "0       P123     Nike Running Shoes       Nike\n",
       "1       P234           Dove Shampoo       Dove\n",
       "2       P345  Pepsi 16OZ. Diet Coke      Pepsi\n",
       "3       P999  Good furniture chairs        NaN\n",
       "4       P567         Comfort sheets        NaN"
      ]
     },
     "execution_count": 102,
     "metadata": {},
     "output_type": "execute_result"
    }
   ],
   "source": [
    "# Merge two data Frame - Left Outer Join\n",
    "prod_brand_left = pd.merge(product, brand, on=\"Product Id\", how=\"left\")\n",
    "prod_brand_left"
   ]
  },
  {
   "cell_type": "code",
   "execution_count": 103,
   "metadata": {},
   "outputs": [
    {
     "data": {
      "text/html": [
       "<div>\n",
       "<style>\n",
       "    .dataframe thead tr:only-child th {\n",
       "        text-align: right;\n",
       "    }\n",
       "\n",
       "    .dataframe thead th {\n",
       "        text-align: left;\n",
       "    }\n",
       "\n",
       "    .dataframe tbody tr th {\n",
       "        vertical-align: top;\n",
       "    }\n",
       "</style>\n",
       "<table border=\"1\" class=\"dataframe\">\n",
       "  <thead>\n",
       "    <tr style=\"text-align: right;\">\n",
       "      <th></th>\n",
       "      <th>Product Id</th>\n",
       "      <th>Description</th>\n",
       "      <th>Brand Name</th>\n",
       "    </tr>\n",
       "  </thead>\n",
       "  <tbody>\n",
       "    <tr>\n",
       "      <th>0</th>\n",
       "      <td>P123</td>\n",
       "      <td>Nike Running Shoes</td>\n",
       "      <td>Nike</td>\n",
       "    </tr>\n",
       "    <tr>\n",
       "      <th>1</th>\n",
       "      <td>P234</td>\n",
       "      <td>Dove Shampoo</td>\n",
       "      <td>Dove</td>\n",
       "    </tr>\n",
       "    <tr>\n",
       "      <th>2</th>\n",
       "      <td>P345</td>\n",
       "      <td>Pepsi 16OZ. Diet Coke</td>\n",
       "      <td>Pepsi</td>\n",
       "    </tr>\n",
       "    <tr>\n",
       "      <th>3</th>\n",
       "      <td>P700</td>\n",
       "      <td>NaN</td>\n",
       "      <td>Coke</td>\n",
       "    </tr>\n",
       "  </tbody>\n",
       "</table>\n",
       "</div>"
      ],
      "text/plain": [
       "  Product Id            Description Brand Name\n",
       "0       P123     Nike Running Shoes       Nike\n",
       "1       P234           Dove Shampoo       Dove\n",
       "2       P345  Pepsi 16OZ. Diet Coke      Pepsi\n",
       "3       P700                    NaN       Coke"
      ]
     },
     "execution_count": 103,
     "metadata": {},
     "output_type": "execute_result"
    }
   ],
   "source": [
    "# Merge two data Frame - Right Outer Join\n",
    "prod_brand_right = pd.merge(product, brand, on=\"Product Id\", how=\"right\")\n",
    "prod_brand_right"
   ]
  },
  {
   "cell_type": "code",
   "execution_count": 112,
   "metadata": {},
   "outputs": [
    {
     "name": "stdout",
     "output_type": "stream",
     "text": [
      "   Product Id  Description  Brand Name\n",
      "0       False        False       False\n",
      "1       False        False       False\n",
      "2       False        False       False\n",
      "3       False        False        True\n",
      "4       False        False        True\n",
      "[False False False False False False False False False False False  True\n",
      " False False  True]\n",
      "2\n"
     ]
    }
   ],
   "source": [
    "# finding how many columns have null values\n",
    "#step by step\n",
    "print(prod_brand_left.isnull())  # check if there are  Null values\n",
    "print(prod_brand_left.isnull().values.ravel()) # returns a continous flattened Array\n",
    "print(prod_brand_left.isnull().values.ravel().sum())"
   ]
  },
  {
   "cell_type": "code",
   "execution_count": 118,
   "metadata": {},
   "outputs": [
    {
     "data": {
      "text/html": [
       "<div>\n",
       "<style>\n",
       "    .dataframe thead tr:only-child th {\n",
       "        text-align: right;\n",
       "    }\n",
       "\n",
       "    .dataframe thead th {\n",
       "        text-align: left;\n",
       "    }\n",
       "\n",
       "    .dataframe tbody tr th {\n",
       "        vertical-align: top;\n",
       "    }\n",
       "</style>\n",
       "<table border=\"1\" class=\"dataframe\">\n",
       "  <thead>\n",
       "    <tr style=\"text-align: right;\">\n",
       "      <th></th>\n",
       "      <th>Product Id_Product</th>\n",
       "      <th>Description</th>\n",
       "      <th>Product Id_Product</th>\n",
       "      <th>Brand Name</th>\n",
       "    </tr>\n",
       "  </thead>\n",
       "  <tbody>\n",
       "    <tr>\n",
       "      <th>0</th>\n",
       "      <td>P123</td>\n",
       "      <td>Nike Running Shoes</td>\n",
       "      <td>P123</td>\n",
       "      <td>Nike</td>\n",
       "    </tr>\n",
       "    <tr>\n",
       "      <th>1</th>\n",
       "      <td>P234</td>\n",
       "      <td>Dove Shampoo</td>\n",
       "      <td>P234</td>\n",
       "      <td>Dove</td>\n",
       "    </tr>\n",
       "    <tr>\n",
       "      <th>2</th>\n",
       "      <td>P345</td>\n",
       "      <td>Pepsi 16OZ. Diet Coke</td>\n",
       "      <td>P345</td>\n",
       "      <td>Pepsi</td>\n",
       "    </tr>\n",
       "    <tr>\n",
       "      <th>3</th>\n",
       "      <td>P999</td>\n",
       "      <td>Good furniture chairs</td>\n",
       "      <td>P700</td>\n",
       "      <td>Coke</td>\n",
       "    </tr>\n",
       "    <tr>\n",
       "      <th>4</th>\n",
       "      <td>P567</td>\n",
       "      <td>Comfort sheets</td>\n",
       "      <td>NaN</td>\n",
       "      <td>NaN</td>\n",
       "    </tr>\n",
       "  </tbody>\n",
       "</table>\n",
       "</div>"
      ],
      "text/plain": [
       "  Product Id_Product            Description Product Id_Product Brand Name\n",
       "0               P123     Nike Running Shoes               P123       Nike\n",
       "1               P234           Dove Shampoo               P234       Dove\n",
       "2               P345  Pepsi 16OZ. Diet Coke               P345      Pepsi\n",
       "3               P999  Good furniture chairs               P700       Coke\n",
       "4               P567         Comfort sheets                NaN        NaN"
      ]
     },
     "execution_count": 118,
     "metadata": {},
     "output_type": "execute_result"
    }
   ],
   "source": [
    "# Join can be used instaed of Merge specify rsuffix and lsuffix to specify the key\n",
    "df_join = product.join(brand, rsuffix=\"_Product\", lsuffix=\"_Product\")\n",
    "df_join"
   ]
  },
  {
   "cell_type": "code",
   "execution_count": 120,
   "metadata": {
    "scrolled": true
   },
   "outputs": [
    {
     "data": {
      "text/html": [
       "<div>\n",
       "<style>\n",
       "    .dataframe thead tr:only-child th {\n",
       "        text-align: right;\n",
       "    }\n",
       "\n",
       "    .dataframe thead th {\n",
       "        text-align: left;\n",
       "    }\n",
       "\n",
       "    .dataframe tbody tr th {\n",
       "        vertical-align: top;\n",
       "    }\n",
       "</style>\n",
       "<table border=\"1\" class=\"dataframe\">\n",
       "  <thead>\n",
       "    <tr style=\"text-align: right;\">\n",
       "      <th></th>\n",
       "      <th>Brand Name</th>\n",
       "      <th>Description</th>\n",
       "      <th>Product Id</th>\n",
       "    </tr>\n",
       "  </thead>\n",
       "  <tbody>\n",
       "    <tr>\n",
       "      <th>0</th>\n",
       "      <td>NaN</td>\n",
       "      <td>Nike Running Shoes</td>\n",
       "      <td>P123</td>\n",
       "    </tr>\n",
       "    <tr>\n",
       "      <th>1</th>\n",
       "      <td>NaN</td>\n",
       "      <td>Dove Shampoo</td>\n",
       "      <td>P234</td>\n",
       "    </tr>\n",
       "    <tr>\n",
       "      <th>2</th>\n",
       "      <td>NaN</td>\n",
       "      <td>Pepsi 16OZ. Diet Coke</td>\n",
       "      <td>P345</td>\n",
       "    </tr>\n",
       "    <tr>\n",
       "      <th>3</th>\n",
       "      <td>NaN</td>\n",
       "      <td>Good furniture chairs</td>\n",
       "      <td>P999</td>\n",
       "    </tr>\n",
       "    <tr>\n",
       "      <th>4</th>\n",
       "      <td>NaN</td>\n",
       "      <td>Comfort sheets</td>\n",
       "      <td>P567</td>\n",
       "    </tr>\n",
       "    <tr>\n",
       "      <th>0</th>\n",
       "      <td>Nike</td>\n",
       "      <td>NaN</td>\n",
       "      <td>P123</td>\n",
       "    </tr>\n",
       "    <tr>\n",
       "      <th>1</th>\n",
       "      <td>Dove</td>\n",
       "      <td>NaN</td>\n",
       "      <td>P234</td>\n",
       "    </tr>\n",
       "    <tr>\n",
       "      <th>2</th>\n",
       "      <td>Pepsi</td>\n",
       "      <td>NaN</td>\n",
       "      <td>P345</td>\n",
       "    </tr>\n",
       "    <tr>\n",
       "      <th>3</th>\n",
       "      <td>Coke</td>\n",
       "      <td>NaN</td>\n",
       "      <td>P700</td>\n",
       "    </tr>\n",
       "  </tbody>\n",
       "</table>\n",
       "</div>"
      ],
      "text/plain": [
       "  Brand Name            Description Product Id\n",
       "0        NaN     Nike Running Shoes       P123\n",
       "1        NaN           Dove Shampoo       P234\n",
       "2        NaN  Pepsi 16OZ. Diet Coke       P345\n",
       "3        NaN  Good furniture chairs       P999\n",
       "4        NaN         Comfort sheets       P567\n",
       "0       Nike                    NaN       P123\n",
       "1       Dove                    NaN       P234\n",
       "2      Pepsi                    NaN       P345\n",
       "3       Coke                    NaN       P700"
      ]
     },
     "execution_count": 120,
     "metadata": {},
     "output_type": "execute_result"
    }
   ],
   "source": [
    "# using concat to combine two dataframes\n",
    "df_concat = pd.concat([product, brand])\n",
    "df_concat"
   ]
  },
  {
   "cell_type": "code",
   "execution_count": 123,
   "metadata": {},
   "outputs": [
    {
     "data": {
      "text/html": [
       "<div>\n",
       "<style>\n",
       "    .dataframe thead tr:only-child th {\n",
       "        text-align: right;\n",
       "    }\n",
       "\n",
       "    .dataframe thead th {\n",
       "        text-align: left;\n",
       "    }\n",
       "\n",
       "    .dataframe tbody tr th {\n",
       "        vertical-align: top;\n",
       "    }\n",
       "</style>\n",
       "<table border=\"1\" class=\"dataframe\">\n",
       "  <thead>\n",
       "    <tr style=\"text-align: right;\">\n",
       "      <th></th>\n",
       "      <th>Product Id</th>\n",
       "      <th>Description</th>\n",
       "    </tr>\n",
       "  </thead>\n",
       "  <tbody>\n",
       "    <tr>\n",
       "      <th>0</th>\n",
       "      <td>P123</td>\n",
       "      <td>Nike Running Shoes</td>\n",
       "    </tr>\n",
       "  </tbody>\n",
       "</table>\n",
       "</div>"
      ],
      "text/plain": [
       "  Product Id         Description\n",
       "0       P123  Nike Running Shoes"
      ]
     },
     "execution_count": 123,
     "metadata": {},
     "output_type": "execute_result"
    }
   ],
   "source": [
    "# uerying data from dataframe based on conditions\n",
    "product[product[\"Product Id\"] ==\"P123\"]"
   ]
  },
  {
   "cell_type": "code",
   "execution_count": 131,
   "metadata": {
    "scrolled": true
   },
   "outputs": [
    {
     "data": {
      "text/html": [
       "<div>\n",
       "<style>\n",
       "    .dataframe thead tr:only-child th {\n",
       "        text-align: right;\n",
       "    }\n",
       "\n",
       "    .dataframe thead th {\n",
       "        text-align: left;\n",
       "    }\n",
       "\n",
       "    .dataframe tbody tr th {\n",
       "        vertical-align: top;\n",
       "    }\n",
       "</style>\n",
       "<table border=\"1\" class=\"dataframe\">\n",
       "  <thead>\n",
       "    <tr style=\"text-align: right;\">\n",
       "      <th></th>\n",
       "      <th>year</th>\n",
       "      <th>month</th>\n",
       "      <th>passengers</th>\n",
       "    </tr>\n",
       "  </thead>\n",
       "  <tbody>\n",
       "    <tr>\n",
       "      <th>0</th>\n",
       "      <td>1949</td>\n",
       "      <td>January</td>\n",
       "      <td>112</td>\n",
       "    </tr>\n",
       "    <tr>\n",
       "      <th>1</th>\n",
       "      <td>1949</td>\n",
       "      <td>February</td>\n",
       "      <td>118</td>\n",
       "    </tr>\n",
       "    <tr>\n",
       "      <th>2</th>\n",
       "      <td>1949</td>\n",
       "      <td>March</td>\n",
       "      <td>132</td>\n",
       "    </tr>\n",
       "    <tr>\n",
       "      <th>3</th>\n",
       "      <td>1949</td>\n",
       "      <td>April</td>\n",
       "      <td>129</td>\n",
       "    </tr>\n",
       "    <tr>\n",
       "      <th>4</th>\n",
       "      <td>1949</td>\n",
       "      <td>May</td>\n",
       "      <td>121</td>\n",
       "    </tr>\n",
       "    <tr>\n",
       "      <th>5</th>\n",
       "      <td>1949</td>\n",
       "      <td>June</td>\n",
       "      <td>135</td>\n",
       "    </tr>\n",
       "    <tr>\n",
       "      <th>6</th>\n",
       "      <td>1949</td>\n",
       "      <td>July</td>\n",
       "      <td>148</td>\n",
       "    </tr>\n",
       "    <tr>\n",
       "      <th>7</th>\n",
       "      <td>1949</td>\n",
       "      <td>August</td>\n",
       "      <td>148</td>\n",
       "    </tr>\n",
       "    <tr>\n",
       "      <th>8</th>\n",
       "      <td>1949</td>\n",
       "      <td>September</td>\n",
       "      <td>136</td>\n",
       "    </tr>\n",
       "    <tr>\n",
       "      <th>9</th>\n",
       "      <td>1949</td>\n",
       "      <td>October</td>\n",
       "      <td>119</td>\n",
       "    </tr>\n",
       "    <tr>\n",
       "      <th>10</th>\n",
       "      <td>1949</td>\n",
       "      <td>November</td>\n",
       "      <td>104</td>\n",
       "    </tr>\n",
       "    <tr>\n",
       "      <th>11</th>\n",
       "      <td>1949</td>\n",
       "      <td>December</td>\n",
       "      <td>118</td>\n",
       "    </tr>\n",
       "    <tr>\n",
       "      <th>12</th>\n",
       "      <td>1950</td>\n",
       "      <td>January</td>\n",
       "      <td>115</td>\n",
       "    </tr>\n",
       "    <tr>\n",
       "      <th>13</th>\n",
       "      <td>1950</td>\n",
       "      <td>February</td>\n",
       "      <td>126</td>\n",
       "    </tr>\n",
       "    <tr>\n",
       "      <th>14</th>\n",
       "      <td>1950</td>\n",
       "      <td>March</td>\n",
       "      <td>141</td>\n",
       "    </tr>\n",
       "    <tr>\n",
       "      <th>15</th>\n",
       "      <td>1950</td>\n",
       "      <td>April</td>\n",
       "      <td>135</td>\n",
       "    </tr>\n",
       "    <tr>\n",
       "      <th>16</th>\n",
       "      <td>1950</td>\n",
       "      <td>May</td>\n",
       "      <td>125</td>\n",
       "    </tr>\n",
       "    <tr>\n",
       "      <th>17</th>\n",
       "      <td>1950</td>\n",
       "      <td>June</td>\n",
       "      <td>149</td>\n",
       "    </tr>\n",
       "    <tr>\n",
       "      <th>18</th>\n",
       "      <td>1950</td>\n",
       "      <td>July</td>\n",
       "      <td>170</td>\n",
       "    </tr>\n",
       "    <tr>\n",
       "      <th>19</th>\n",
       "      <td>1950</td>\n",
       "      <td>August</td>\n",
       "      <td>170</td>\n",
       "    </tr>\n",
       "    <tr>\n",
       "      <th>20</th>\n",
       "      <td>1950</td>\n",
       "      <td>September</td>\n",
       "      <td>158</td>\n",
       "    </tr>\n",
       "    <tr>\n",
       "      <th>21</th>\n",
       "      <td>1950</td>\n",
       "      <td>October</td>\n",
       "      <td>133</td>\n",
       "    </tr>\n",
       "    <tr>\n",
       "      <th>22</th>\n",
       "      <td>1950</td>\n",
       "      <td>November</td>\n",
       "      <td>114</td>\n",
       "    </tr>\n",
       "    <tr>\n",
       "      <th>23</th>\n",
       "      <td>1950</td>\n",
       "      <td>December</td>\n",
       "      <td>140</td>\n",
       "    </tr>\n",
       "    <tr>\n",
       "      <th>24</th>\n",
       "      <td>1951</td>\n",
       "      <td>January</td>\n",
       "      <td>145</td>\n",
       "    </tr>\n",
       "    <tr>\n",
       "      <th>25</th>\n",
       "      <td>1951</td>\n",
       "      <td>February</td>\n",
       "      <td>150</td>\n",
       "    </tr>\n",
       "    <tr>\n",
       "      <th>26</th>\n",
       "      <td>1951</td>\n",
       "      <td>March</td>\n",
       "      <td>178</td>\n",
       "    </tr>\n",
       "    <tr>\n",
       "      <th>27</th>\n",
       "      <td>1951</td>\n",
       "      <td>April</td>\n",
       "      <td>163</td>\n",
       "    </tr>\n",
       "    <tr>\n",
       "      <th>28</th>\n",
       "      <td>1951</td>\n",
       "      <td>May</td>\n",
       "      <td>172</td>\n",
       "    </tr>\n",
       "    <tr>\n",
       "      <th>29</th>\n",
       "      <td>1951</td>\n",
       "      <td>June</td>\n",
       "      <td>178</td>\n",
       "    </tr>\n",
       "    <tr>\n",
       "      <th>...</th>\n",
       "      <td>...</td>\n",
       "      <td>...</td>\n",
       "      <td>...</td>\n",
       "    </tr>\n",
       "    <tr>\n",
       "      <th>44</th>\n",
       "      <td>1952</td>\n",
       "      <td>September</td>\n",
       "      <td>209</td>\n",
       "    </tr>\n",
       "    <tr>\n",
       "      <th>45</th>\n",
       "      <td>1952</td>\n",
       "      <td>October</td>\n",
       "      <td>191</td>\n",
       "    </tr>\n",
       "    <tr>\n",
       "      <th>46</th>\n",
       "      <td>1952</td>\n",
       "      <td>November</td>\n",
       "      <td>172</td>\n",
       "    </tr>\n",
       "    <tr>\n",
       "      <th>47</th>\n",
       "      <td>1952</td>\n",
       "      <td>December</td>\n",
       "      <td>194</td>\n",
       "    </tr>\n",
       "    <tr>\n",
       "      <th>48</th>\n",
       "      <td>1953</td>\n",
       "      <td>January</td>\n",
       "      <td>196</td>\n",
       "    </tr>\n",
       "    <tr>\n",
       "      <th>49</th>\n",
       "      <td>1953</td>\n",
       "      <td>February</td>\n",
       "      <td>196</td>\n",
       "    </tr>\n",
       "    <tr>\n",
       "      <th>50</th>\n",
       "      <td>1953</td>\n",
       "      <td>March</td>\n",
       "      <td>236</td>\n",
       "    </tr>\n",
       "    <tr>\n",
       "      <th>51</th>\n",
       "      <td>1953</td>\n",
       "      <td>April</td>\n",
       "      <td>235</td>\n",
       "    </tr>\n",
       "    <tr>\n",
       "      <th>52</th>\n",
       "      <td>1953</td>\n",
       "      <td>May</td>\n",
       "      <td>229</td>\n",
       "    </tr>\n",
       "    <tr>\n",
       "      <th>53</th>\n",
       "      <td>1953</td>\n",
       "      <td>June</td>\n",
       "      <td>243</td>\n",
       "    </tr>\n",
       "    <tr>\n",
       "      <th>54</th>\n",
       "      <td>1953</td>\n",
       "      <td>July</td>\n",
       "      <td>264</td>\n",
       "    </tr>\n",
       "    <tr>\n",
       "      <th>55</th>\n",
       "      <td>1953</td>\n",
       "      <td>August</td>\n",
       "      <td>272</td>\n",
       "    </tr>\n",
       "    <tr>\n",
       "      <th>56</th>\n",
       "      <td>1953</td>\n",
       "      <td>September</td>\n",
       "      <td>237</td>\n",
       "    </tr>\n",
       "    <tr>\n",
       "      <th>57</th>\n",
       "      <td>1953</td>\n",
       "      <td>October</td>\n",
       "      <td>211</td>\n",
       "    </tr>\n",
       "    <tr>\n",
       "      <th>58</th>\n",
       "      <td>1953</td>\n",
       "      <td>November</td>\n",
       "      <td>180</td>\n",
       "    </tr>\n",
       "    <tr>\n",
       "      <th>59</th>\n",
       "      <td>1953</td>\n",
       "      <td>December</td>\n",
       "      <td>201</td>\n",
       "    </tr>\n",
       "    <tr>\n",
       "      <th>60</th>\n",
       "      <td>1954</td>\n",
       "      <td>January</td>\n",
       "      <td>204</td>\n",
       "    </tr>\n",
       "    <tr>\n",
       "      <th>61</th>\n",
       "      <td>1954</td>\n",
       "      <td>February</td>\n",
       "      <td>188</td>\n",
       "    </tr>\n",
       "    <tr>\n",
       "      <th>62</th>\n",
       "      <td>1954</td>\n",
       "      <td>March</td>\n",
       "      <td>235</td>\n",
       "    </tr>\n",
       "    <tr>\n",
       "      <th>63</th>\n",
       "      <td>1954</td>\n",
       "      <td>April</td>\n",
       "      <td>227</td>\n",
       "    </tr>\n",
       "    <tr>\n",
       "      <th>64</th>\n",
       "      <td>1954</td>\n",
       "      <td>May</td>\n",
       "      <td>234</td>\n",
       "    </tr>\n",
       "    <tr>\n",
       "      <th>65</th>\n",
       "      <td>1954</td>\n",
       "      <td>June</td>\n",
       "      <td>264</td>\n",
       "    </tr>\n",
       "    <tr>\n",
       "      <th>66</th>\n",
       "      <td>1954</td>\n",
       "      <td>July</td>\n",
       "      <td>302</td>\n",
       "    </tr>\n",
       "    <tr>\n",
       "      <th>67</th>\n",
       "      <td>1954</td>\n",
       "      <td>August</td>\n",
       "      <td>293</td>\n",
       "    </tr>\n",
       "    <tr>\n",
       "      <th>68</th>\n",
       "      <td>1954</td>\n",
       "      <td>September</td>\n",
       "      <td>259</td>\n",
       "    </tr>\n",
       "    <tr>\n",
       "      <th>69</th>\n",
       "      <td>1954</td>\n",
       "      <td>October</td>\n",
       "      <td>229</td>\n",
       "    </tr>\n",
       "    <tr>\n",
       "      <th>70</th>\n",
       "      <td>1954</td>\n",
       "      <td>November</td>\n",
       "      <td>203</td>\n",
       "    </tr>\n",
       "    <tr>\n",
       "      <th>71</th>\n",
       "      <td>1954</td>\n",
       "      <td>December</td>\n",
       "      <td>229</td>\n",
       "    </tr>\n",
       "    <tr>\n",
       "      <th>72</th>\n",
       "      <td>1955</td>\n",
       "      <td>January</td>\n",
       "      <td>242</td>\n",
       "    </tr>\n",
       "    <tr>\n",
       "      <th>73</th>\n",
       "      <td>1955</td>\n",
       "      <td>February</td>\n",
       "      <td>233</td>\n",
       "    </tr>\n",
       "  </tbody>\n",
       "</table>\n",
       "<p>74 rows × 3 columns</p>\n",
       "</div>"
      ],
      "text/plain": [
       "    year      month  passengers\n",
       "0   1949    January         112\n",
       "1   1949   February         118\n",
       "2   1949      March         132\n",
       "3   1949      April         129\n",
       "4   1949        May         121\n",
       "5   1949       June         135\n",
       "6   1949       July         148\n",
       "7   1949     August         148\n",
       "8   1949  September         136\n",
       "9   1949    October         119\n",
       "10  1949   November         104\n",
       "11  1949   December         118\n",
       "12  1950    January         115\n",
       "13  1950   February         126\n",
       "14  1950      March         141\n",
       "15  1950      April         135\n",
       "16  1950        May         125\n",
       "17  1950       June         149\n",
       "18  1950       July         170\n",
       "19  1950     August         170\n",
       "20  1950  September         158\n",
       "21  1950    October         133\n",
       "22  1950   November         114\n",
       "23  1950   December         140\n",
       "24  1951    January         145\n",
       "25  1951   February         150\n",
       "26  1951      March         178\n",
       "27  1951      April         163\n",
       "28  1951        May         172\n",
       "29  1951       June         178\n",
       "..   ...        ...         ...\n",
       "44  1952  September         209\n",
       "45  1952    October         191\n",
       "46  1952   November         172\n",
       "47  1952   December         194\n",
       "48  1953    January         196\n",
       "49  1953   February         196\n",
       "50  1953      March         236\n",
       "51  1953      April         235\n",
       "52  1953        May         229\n",
       "53  1953       June         243\n",
       "54  1953       July         264\n",
       "55  1953     August         272\n",
       "56  1953  September         237\n",
       "57  1953    October         211\n",
       "58  1953   November         180\n",
       "59  1953   December         201\n",
       "60  1954    January         204\n",
       "61  1954   February         188\n",
       "62  1954      March         235\n",
       "63  1954      April         227\n",
       "64  1954        May         234\n",
       "65  1954       June         264\n",
       "66  1954       July         302\n",
       "67  1954     August         293\n",
       "68  1954  September         259\n",
       "69  1954    October         229\n",
       "70  1954   November         203\n",
       "71  1954   December         229\n",
       "72  1955    January         242\n",
       "73  1955   February         233\n",
       "\n",
       "[74 rows x 3 columns]"
      ]
     },
     "execution_count": 131,
     "metadata": {},
     "output_type": "execute_result"
    }
   ],
   "source": [
    "#Reading the data from a csv file \n",
    "flights_data = pd.read_csv('flights.csv')\n",
    "flights_data = flights_data.loc[:,[\"year\", \"month\", \"passengers\"]]\n",
    "flights_data"
   ]
  },
  {
   "cell_type": "code",
   "execution_count": 139,
   "metadata": {},
   "outputs": [
    {
     "data": {
      "text/html": [
       "<div>\n",
       "<style>\n",
       "    .dataframe thead tr:only-child th {\n",
       "        text-align: right;\n",
       "    }\n",
       "\n",
       "    .dataframe thead th {\n",
       "        text-align: left;\n",
       "    }\n",
       "\n",
       "    .dataframe tbody tr th {\n",
       "        vertical-align: top;\n",
       "    }\n",
       "</style>\n",
       "<table border=\"1\" class=\"dataframe\">\n",
       "  <thead>\n",
       "    <tr style=\"text-align: right;\">\n",
       "      <th></th>\n",
       "      <th>passengers</th>\n",
       "    </tr>\n",
       "    <tr>\n",
       "      <th>year</th>\n",
       "      <th></th>\n",
       "    </tr>\n",
       "  </thead>\n",
       "  <tbody>\n",
       "    <tr>\n",
       "      <th>1949</th>\n",
       "      <td>126.666667</td>\n",
       "    </tr>\n",
       "    <tr>\n",
       "      <th>1950</th>\n",
       "      <td>139.666667</td>\n",
       "    </tr>\n",
       "    <tr>\n",
       "      <th>1951</th>\n",
       "      <td>170.166667</td>\n",
       "    </tr>\n",
       "    <tr>\n",
       "      <th>1952</th>\n",
       "      <td>197.000000</td>\n",
       "    </tr>\n",
       "    <tr>\n",
       "      <th>1953</th>\n",
       "      <td>225.000000</td>\n",
       "    </tr>\n",
       "    <tr>\n",
       "      <th>1954</th>\n",
       "      <td>238.916667</td>\n",
       "    </tr>\n",
       "    <tr>\n",
       "      <th>1955</th>\n",
       "      <td>237.500000</td>\n",
       "    </tr>\n",
       "  </tbody>\n",
       "</table>\n",
       "</div>"
      ],
      "text/plain": [
       "      passengers\n",
       "year            \n",
       "1949  126.666667\n",
       "1950  139.666667\n",
       "1951  170.166667\n",
       "1952  197.000000\n",
       "1953  225.000000\n",
       "1954  238.916667\n",
       "1955  237.500000"
      ]
     },
     "execution_count": 139,
     "metadata": {},
     "output_type": "execute_result"
    }
   ],
   "source": [
    "# Grouping data and mean by year\n",
    "df_yearly_mean= flights_data.groupby([\"year\"]).mean()\n",
    "df_yearly_mean"
   ]
  },
  {
   "cell_type": "code",
   "execution_count": 140,
   "metadata": {},
   "outputs": [
    {
     "data": {
      "text/html": [
       "<div>\n",
       "<style>\n",
       "    .dataframe thead tr:only-child th {\n",
       "        text-align: right;\n",
       "    }\n",
       "\n",
       "    .dataframe thead th {\n",
       "        text-align: left;\n",
       "    }\n",
       "\n",
       "    .dataframe tbody tr th {\n",
       "        vertical-align: top;\n",
       "    }\n",
       "</style>\n",
       "<table border=\"1\" class=\"dataframe\">\n",
       "  <thead>\n",
       "    <tr style=\"text-align: right;\">\n",
       "      <th></th>\n",
       "      <th></th>\n",
       "      <th>passengers</th>\n",
       "    </tr>\n",
       "    <tr>\n",
       "      <th>year</th>\n",
       "      <th>month</th>\n",
       "      <th></th>\n",
       "    </tr>\n",
       "  </thead>\n",
       "  <tbody>\n",
       "    <tr>\n",
       "      <th rowspan=\"12\" valign=\"top\">1949</th>\n",
       "      <th>April</th>\n",
       "      <td>129</td>\n",
       "    </tr>\n",
       "    <tr>\n",
       "      <th>August</th>\n",
       "      <td>148</td>\n",
       "    </tr>\n",
       "    <tr>\n",
       "      <th>December</th>\n",
       "      <td>118</td>\n",
       "    </tr>\n",
       "    <tr>\n",
       "      <th>February</th>\n",
       "      <td>118</td>\n",
       "    </tr>\n",
       "    <tr>\n",
       "      <th>January</th>\n",
       "      <td>112</td>\n",
       "    </tr>\n",
       "    <tr>\n",
       "      <th>July</th>\n",
       "      <td>148</td>\n",
       "    </tr>\n",
       "    <tr>\n",
       "      <th>June</th>\n",
       "      <td>135</td>\n",
       "    </tr>\n",
       "    <tr>\n",
       "      <th>March</th>\n",
       "      <td>132</td>\n",
       "    </tr>\n",
       "    <tr>\n",
       "      <th>May</th>\n",
       "      <td>121</td>\n",
       "    </tr>\n",
       "    <tr>\n",
       "      <th>November</th>\n",
       "      <td>104</td>\n",
       "    </tr>\n",
       "    <tr>\n",
       "      <th>October</th>\n",
       "      <td>119</td>\n",
       "    </tr>\n",
       "    <tr>\n",
       "      <th>September</th>\n",
       "      <td>136</td>\n",
       "    </tr>\n",
       "    <tr>\n",
       "      <th rowspan=\"12\" valign=\"top\">1950</th>\n",
       "      <th>April</th>\n",
       "      <td>135</td>\n",
       "    </tr>\n",
       "    <tr>\n",
       "      <th>August</th>\n",
       "      <td>170</td>\n",
       "    </tr>\n",
       "    <tr>\n",
       "      <th>December</th>\n",
       "      <td>140</td>\n",
       "    </tr>\n",
       "    <tr>\n",
       "      <th>February</th>\n",
       "      <td>126</td>\n",
       "    </tr>\n",
       "    <tr>\n",
       "      <th>January</th>\n",
       "      <td>115</td>\n",
       "    </tr>\n",
       "    <tr>\n",
       "      <th>July</th>\n",
       "      <td>170</td>\n",
       "    </tr>\n",
       "    <tr>\n",
       "      <th>June</th>\n",
       "      <td>149</td>\n",
       "    </tr>\n",
       "    <tr>\n",
       "      <th>March</th>\n",
       "      <td>141</td>\n",
       "    </tr>\n",
       "    <tr>\n",
       "      <th>May</th>\n",
       "      <td>125</td>\n",
       "    </tr>\n",
       "    <tr>\n",
       "      <th>November</th>\n",
       "      <td>114</td>\n",
       "    </tr>\n",
       "    <tr>\n",
       "      <th>October</th>\n",
       "      <td>133</td>\n",
       "    </tr>\n",
       "    <tr>\n",
       "      <th>September</th>\n",
       "      <td>158</td>\n",
       "    </tr>\n",
       "    <tr>\n",
       "      <th rowspan=\"6\" valign=\"top\">1951</th>\n",
       "      <th>April</th>\n",
       "      <td>163</td>\n",
       "    </tr>\n",
       "    <tr>\n",
       "      <th>August</th>\n",
       "      <td>199</td>\n",
       "    </tr>\n",
       "    <tr>\n",
       "      <th>December</th>\n",
       "      <td>166</td>\n",
       "    </tr>\n",
       "    <tr>\n",
       "      <th>February</th>\n",
       "      <td>150</td>\n",
       "    </tr>\n",
       "    <tr>\n",
       "      <th>January</th>\n",
       "      <td>145</td>\n",
       "    </tr>\n",
       "    <tr>\n",
       "      <th>July</th>\n",
       "      <td>199</td>\n",
       "    </tr>\n",
       "    <tr>\n",
       "      <th>...</th>\n",
       "      <th>...</th>\n",
       "      <td>...</td>\n",
       "    </tr>\n",
       "    <tr>\n",
       "      <th rowspan=\"4\" valign=\"top\">1952</th>\n",
       "      <th>May</th>\n",
       "      <td>183</td>\n",
       "    </tr>\n",
       "    <tr>\n",
       "      <th>November</th>\n",
       "      <td>172</td>\n",
       "    </tr>\n",
       "    <tr>\n",
       "      <th>October</th>\n",
       "      <td>191</td>\n",
       "    </tr>\n",
       "    <tr>\n",
       "      <th>September</th>\n",
       "      <td>209</td>\n",
       "    </tr>\n",
       "    <tr>\n",
       "      <th rowspan=\"12\" valign=\"top\">1953</th>\n",
       "      <th>April</th>\n",
       "      <td>235</td>\n",
       "    </tr>\n",
       "    <tr>\n",
       "      <th>August</th>\n",
       "      <td>272</td>\n",
       "    </tr>\n",
       "    <tr>\n",
       "      <th>December</th>\n",
       "      <td>201</td>\n",
       "    </tr>\n",
       "    <tr>\n",
       "      <th>February</th>\n",
       "      <td>196</td>\n",
       "    </tr>\n",
       "    <tr>\n",
       "      <th>January</th>\n",
       "      <td>196</td>\n",
       "    </tr>\n",
       "    <tr>\n",
       "      <th>July</th>\n",
       "      <td>264</td>\n",
       "    </tr>\n",
       "    <tr>\n",
       "      <th>June</th>\n",
       "      <td>243</td>\n",
       "    </tr>\n",
       "    <tr>\n",
       "      <th>March</th>\n",
       "      <td>236</td>\n",
       "    </tr>\n",
       "    <tr>\n",
       "      <th>May</th>\n",
       "      <td>229</td>\n",
       "    </tr>\n",
       "    <tr>\n",
       "      <th>November</th>\n",
       "      <td>180</td>\n",
       "    </tr>\n",
       "    <tr>\n",
       "      <th>October</th>\n",
       "      <td>211</td>\n",
       "    </tr>\n",
       "    <tr>\n",
       "      <th>September</th>\n",
       "      <td>237</td>\n",
       "    </tr>\n",
       "    <tr>\n",
       "      <th rowspan=\"12\" valign=\"top\">1954</th>\n",
       "      <th>April</th>\n",
       "      <td>227</td>\n",
       "    </tr>\n",
       "    <tr>\n",
       "      <th>August</th>\n",
       "      <td>293</td>\n",
       "    </tr>\n",
       "    <tr>\n",
       "      <th>December</th>\n",
       "      <td>229</td>\n",
       "    </tr>\n",
       "    <tr>\n",
       "      <th>February</th>\n",
       "      <td>188</td>\n",
       "    </tr>\n",
       "    <tr>\n",
       "      <th>January</th>\n",
       "      <td>204</td>\n",
       "    </tr>\n",
       "    <tr>\n",
       "      <th>July</th>\n",
       "      <td>302</td>\n",
       "    </tr>\n",
       "    <tr>\n",
       "      <th>June</th>\n",
       "      <td>264</td>\n",
       "    </tr>\n",
       "    <tr>\n",
       "      <th>March</th>\n",
       "      <td>235</td>\n",
       "    </tr>\n",
       "    <tr>\n",
       "      <th>May</th>\n",
       "      <td>234</td>\n",
       "    </tr>\n",
       "    <tr>\n",
       "      <th>November</th>\n",
       "      <td>203</td>\n",
       "    </tr>\n",
       "    <tr>\n",
       "      <th>October</th>\n",
       "      <td>229</td>\n",
       "    </tr>\n",
       "    <tr>\n",
       "      <th>September</th>\n",
       "      <td>259</td>\n",
       "    </tr>\n",
       "    <tr>\n",
       "      <th rowspan=\"2\" valign=\"top\">1955</th>\n",
       "      <th>February</th>\n",
       "      <td>233</td>\n",
       "    </tr>\n",
       "    <tr>\n",
       "      <th>January</th>\n",
       "      <td>242</td>\n",
       "    </tr>\n",
       "  </tbody>\n",
       "</table>\n",
       "<p>74 rows × 1 columns</p>\n",
       "</div>"
      ],
      "text/plain": [
       "                passengers\n",
       "year month                \n",
       "1949 April             129\n",
       "     August            148\n",
       "     December          118\n",
       "     February          118\n",
       "     January           112\n",
       "     July              148\n",
       "     June              135\n",
       "     March             132\n",
       "     May               121\n",
       "     November          104\n",
       "     October           119\n",
       "     September         136\n",
       "1950 April             135\n",
       "     August            170\n",
       "     December          140\n",
       "     February          126\n",
       "     January           115\n",
       "     July              170\n",
       "     June              149\n",
       "     March             141\n",
       "     May               125\n",
       "     November          114\n",
       "     October           133\n",
       "     September         158\n",
       "1951 April             163\n",
       "     August            199\n",
       "     December          166\n",
       "     February          150\n",
       "     January           145\n",
       "     July              199\n",
       "...                    ...\n",
       "1952 May               183\n",
       "     November          172\n",
       "     October           191\n",
       "     September         209\n",
       "1953 April             235\n",
       "     August            272\n",
       "     December          201\n",
       "     February          196\n",
       "     January           196\n",
       "     July              264\n",
       "     June              243\n",
       "     March             236\n",
       "     May               229\n",
       "     November          180\n",
       "     October           211\n",
       "     September         237\n",
       "1954 April             227\n",
       "     August            293\n",
       "     December          229\n",
       "     February          188\n",
       "     January           204\n",
       "     July              302\n",
       "     June              264\n",
       "     March             235\n",
       "     May               234\n",
       "     November          203\n",
       "     October           229\n",
       "     September         259\n",
       "1955 February          233\n",
       "     January           242\n",
       "\n",
       "[74 rows x 1 columns]"
      ]
     },
     "execution_count": 140,
     "metadata": {},
     "output_type": "execute_result"
    }
   ],
   "source": [
    "# Grouping data and summing by year to know  how many passengers travelled each Year and followed by month\n",
    "df_yearly_sum= flights_data.groupby([\"year\", \"month\"]).sum()\n",
    "df_yearly_sum"
   ]
  },
  {
   "cell_type": "code",
   "execution_count": 143,
   "metadata": {},
   "outputs": [
    {
     "data": {
      "text/plain": [
       "Index(['passengers'], dtype='object')"
      ]
     },
     "execution_count": 143,
     "metadata": {},
     "output_type": "execute_result"
    }
   ],
   "source": [
    "df_yearly_sum.columns\n"
   ]
  },
  {
   "cell_type": "code",
   "execution_count": 148,
   "metadata": {},
   "outputs": [
    {
     "data": {
      "text/html": [
       "<div>\n",
       "<style>\n",
       "    .dataframe thead tr:only-child th {\n",
       "        text-align: right;\n",
       "    }\n",
       "\n",
       "    .dataframe thead th {\n",
       "        text-align: left;\n",
       "    }\n",
       "\n",
       "    .dataframe tbody tr th {\n",
       "        vertical-align: top;\n",
       "    }\n",
       "</style>\n",
       "<table border=\"1\" class=\"dataframe\">\n",
       "  <thead>\n",
       "    <tr style=\"text-align: right;\">\n",
       "      <th></th>\n",
       "      <th></th>\n",
       "      <th>passengers</th>\n",
       "    </tr>\n",
       "    <tr>\n",
       "      <th>year</th>\n",
       "      <th>month</th>\n",
       "      <th></th>\n",
       "    </tr>\n",
       "  </thead>\n",
       "  <tbody>\n",
       "    <tr>\n",
       "      <th>1954</th>\n",
       "      <th>July</th>\n",
       "      <td>302</td>\n",
       "    </tr>\n",
       "  </tbody>\n",
       "</table>\n",
       "</div>"
      ],
      "text/plain": [
       "            passengers\n",
       "year month            \n",
       "1954 July          302"
      ]
     },
     "execution_count": 148,
     "metadata": {},
     "output_type": "execute_result"
    }
   ],
   "source": [
    "#find months and yearls where more than 300 passengers travlled\n",
    "\n",
    "df_300 = df_yearly_sum[df_yearly_sum[\"passengers\"] >300]\n",
    "df_300"
   ]
  },
  {
   "cell_type": "code",
   "execution_count": 150,
   "metadata": {},
   "outputs": [
    {
     "data": {
      "text/html": [
       "<div>\n",
       "<style>\n",
       "    .dataframe thead tr:only-child th {\n",
       "        text-align: right;\n",
       "    }\n",
       "\n",
       "    .dataframe thead th {\n",
       "        text-align: left;\n",
       "    }\n",
       "\n",
       "    .dataframe tbody tr th {\n",
       "        vertical-align: top;\n",
       "    }\n",
       "</style>\n",
       "<table border=\"1\" class=\"dataframe\">\n",
       "  <thead>\n",
       "    <tr>\n",
       "      <th>year</th>\n",
       "      <th>1954</th>\n",
       "    </tr>\n",
       "    <tr>\n",
       "      <th>month</th>\n",
       "      <th>July</th>\n",
       "    </tr>\n",
       "  </thead>\n",
       "  <tbody>\n",
       "    <tr>\n",
       "      <th>passengers</th>\n",
       "      <td>302</td>\n",
       "    </tr>\n",
       "  </tbody>\n",
       "</table>\n",
       "</div>"
      ],
      "text/plain": [
       "year       1954\n",
       "month      July\n",
       "passengers  302"
      ]
     },
     "execution_count": 150,
     "metadata": {},
     "output_type": "execute_result"
    }
   ],
   "source": [
    "df_300.transpose()"
   ]
  },
  {
   "cell_type": "code",
   "execution_count": 157,
   "metadata": {},
   "outputs": [
    {
     "data": {
      "text/html": [
       "<div>\n",
       "<style>\n",
       "    .dataframe thead tr:only-child th {\n",
       "        text-align: right;\n",
       "    }\n",
       "\n",
       "    .dataframe thead th {\n",
       "        text-align: left;\n",
       "    }\n",
       "\n",
       "    .dataframe tbody tr th {\n",
       "        vertical-align: top;\n",
       "    }\n",
       "</style>\n",
       "<table border=\"1\" class=\"dataframe\">\n",
       "  <thead>\n",
       "    <tr style=\"text-align: right;\">\n",
       "      <th>month</th>\n",
       "      <th>April</th>\n",
       "      <th>August</th>\n",
       "      <th>December</th>\n",
       "      <th>February</th>\n",
       "      <th>January</th>\n",
       "      <th>July</th>\n",
       "      <th>June</th>\n",
       "      <th>March</th>\n",
       "      <th>May</th>\n",
       "      <th>November</th>\n",
       "      <th>October</th>\n",
       "      <th>September</th>\n",
       "    </tr>\n",
       "    <tr>\n",
       "      <th>year</th>\n",
       "      <th></th>\n",
       "      <th></th>\n",
       "      <th></th>\n",
       "      <th></th>\n",
       "      <th></th>\n",
       "      <th></th>\n",
       "      <th></th>\n",
       "      <th></th>\n",
       "      <th></th>\n",
       "      <th></th>\n",
       "      <th></th>\n",
       "      <th></th>\n",
       "    </tr>\n",
       "  </thead>\n",
       "  <tbody>\n",
       "    <tr>\n",
       "      <th>1949</th>\n",
       "      <td>129.0</td>\n",
       "      <td>148.0</td>\n",
       "      <td>118.0</td>\n",
       "      <td>118.0</td>\n",
       "      <td>112.0</td>\n",
       "      <td>148.0</td>\n",
       "      <td>135.0</td>\n",
       "      <td>132.0</td>\n",
       "      <td>121.0</td>\n",
       "      <td>104.0</td>\n",
       "      <td>119.0</td>\n",
       "      <td>136.0</td>\n",
       "    </tr>\n",
       "    <tr>\n",
       "      <th>1950</th>\n",
       "      <td>135.0</td>\n",
       "      <td>170.0</td>\n",
       "      <td>140.0</td>\n",
       "      <td>126.0</td>\n",
       "      <td>115.0</td>\n",
       "      <td>170.0</td>\n",
       "      <td>149.0</td>\n",
       "      <td>141.0</td>\n",
       "      <td>125.0</td>\n",
       "      <td>114.0</td>\n",
       "      <td>133.0</td>\n",
       "      <td>158.0</td>\n",
       "    </tr>\n",
       "    <tr>\n",
       "      <th>1951</th>\n",
       "      <td>163.0</td>\n",
       "      <td>199.0</td>\n",
       "      <td>166.0</td>\n",
       "      <td>150.0</td>\n",
       "      <td>145.0</td>\n",
       "      <td>199.0</td>\n",
       "      <td>178.0</td>\n",
       "      <td>178.0</td>\n",
       "      <td>172.0</td>\n",
       "      <td>146.0</td>\n",
       "      <td>162.0</td>\n",
       "      <td>184.0</td>\n",
       "    </tr>\n",
       "    <tr>\n",
       "      <th>1952</th>\n",
       "      <td>181.0</td>\n",
       "      <td>242.0</td>\n",
       "      <td>194.0</td>\n",
       "      <td>180.0</td>\n",
       "      <td>171.0</td>\n",
       "      <td>230.0</td>\n",
       "      <td>218.0</td>\n",
       "      <td>193.0</td>\n",
       "      <td>183.0</td>\n",
       "      <td>172.0</td>\n",
       "      <td>191.0</td>\n",
       "      <td>209.0</td>\n",
       "    </tr>\n",
       "    <tr>\n",
       "      <th>1953</th>\n",
       "      <td>235.0</td>\n",
       "      <td>272.0</td>\n",
       "      <td>201.0</td>\n",
       "      <td>196.0</td>\n",
       "      <td>196.0</td>\n",
       "      <td>264.0</td>\n",
       "      <td>243.0</td>\n",
       "      <td>236.0</td>\n",
       "      <td>229.0</td>\n",
       "      <td>180.0</td>\n",
       "      <td>211.0</td>\n",
       "      <td>237.0</td>\n",
       "    </tr>\n",
       "    <tr>\n",
       "      <th>1954</th>\n",
       "      <td>227.0</td>\n",
       "      <td>293.0</td>\n",
       "      <td>229.0</td>\n",
       "      <td>188.0</td>\n",
       "      <td>204.0</td>\n",
       "      <td>302.0</td>\n",
       "      <td>264.0</td>\n",
       "      <td>235.0</td>\n",
       "      <td>234.0</td>\n",
       "      <td>203.0</td>\n",
       "      <td>229.0</td>\n",
       "      <td>259.0</td>\n",
       "    </tr>\n",
       "    <tr>\n",
       "      <th>1955</th>\n",
       "      <td>NaN</td>\n",
       "      <td>NaN</td>\n",
       "      <td>NaN</td>\n",
       "      <td>233.0</td>\n",
       "      <td>242.0</td>\n",
       "      <td>NaN</td>\n",
       "      <td>NaN</td>\n",
       "      <td>NaN</td>\n",
       "      <td>NaN</td>\n",
       "      <td>NaN</td>\n",
       "      <td>NaN</td>\n",
       "      <td>NaN</td>\n",
       "    </tr>\n",
       "  </tbody>\n",
       "</table>\n",
       "</div>"
      ],
      "text/plain": [
       "month  April  August  December  February  January   July   June  March    May  \\\n",
       "year                                                                            \n",
       "1949   129.0   148.0     118.0     118.0    112.0  148.0  135.0  132.0  121.0   \n",
       "1950   135.0   170.0     140.0     126.0    115.0  170.0  149.0  141.0  125.0   \n",
       "1951   163.0   199.0     166.0     150.0    145.0  199.0  178.0  178.0  172.0   \n",
       "1952   181.0   242.0     194.0     180.0    171.0  230.0  218.0  193.0  183.0   \n",
       "1953   235.0   272.0     201.0     196.0    196.0  264.0  243.0  236.0  229.0   \n",
       "1954   227.0   293.0     229.0     188.0    204.0  302.0  264.0  235.0  234.0   \n",
       "1955     NaN     NaN       NaN     233.0    242.0    NaN    NaN    NaN    NaN   \n",
       "\n",
       "month  November  October  September  \n",
       "year                                 \n",
       "1949      104.0    119.0      136.0  \n",
       "1950      114.0    133.0      158.0  \n",
       "1951      146.0    162.0      184.0  \n",
       "1952      172.0    191.0      209.0  \n",
       "1953      180.0    211.0      237.0  \n",
       "1954      203.0    229.0      259.0  \n",
       "1955        NaN      NaN        NaN  "
      ]
     },
     "execution_count": 157,
     "metadata": {},
     "output_type": "execute_result"
    }
   ],
   "source": [
    "# pivot the data by Year, have month and columns and show passengers count as values\n",
    "flights_data.pivot(columns=\"month\", values=\"passengers\", index=\"year\")"
   ]
  },
  {
   "cell_type": "code",
   "execution_count": 162,
   "metadata": {},
   "outputs": [
    {
     "data": {
      "text/html": [
       "<div>\n",
       "<style>\n",
       "    .dataframe thead tr:only-child th {\n",
       "        text-align: right;\n",
       "    }\n",
       "\n",
       "    .dataframe thead th {\n",
       "        text-align: left;\n",
       "    }\n",
       "\n",
       "    .dataframe tbody tr th {\n",
       "        vertical-align: top;\n",
       "    }\n",
       "</style>\n",
       "<table border=\"1\" class=\"dataframe\">\n",
       "  <thead>\n",
       "    <tr style=\"text-align: right;\">\n",
       "      <th>year</th>\n",
       "      <th>1949</th>\n",
       "      <th>1950</th>\n",
       "      <th>1951</th>\n",
       "      <th>1952</th>\n",
       "      <th>1953</th>\n",
       "      <th>1954</th>\n",
       "      <th>1955</th>\n",
       "    </tr>\n",
       "    <tr>\n",
       "      <th>month</th>\n",
       "      <th></th>\n",
       "      <th></th>\n",
       "      <th></th>\n",
       "      <th></th>\n",
       "      <th></th>\n",
       "      <th></th>\n",
       "      <th></th>\n",
       "    </tr>\n",
       "  </thead>\n",
       "  <tbody>\n",
       "    <tr>\n",
       "      <th>April</th>\n",
       "      <td>129.0</td>\n",
       "      <td>135.0</td>\n",
       "      <td>163.0</td>\n",
       "      <td>181.0</td>\n",
       "      <td>235.0</td>\n",
       "      <td>227.0</td>\n",
       "      <td>NaN</td>\n",
       "    </tr>\n",
       "    <tr>\n",
       "      <th>August</th>\n",
       "      <td>148.0</td>\n",
       "      <td>170.0</td>\n",
       "      <td>199.0</td>\n",
       "      <td>242.0</td>\n",
       "      <td>272.0</td>\n",
       "      <td>293.0</td>\n",
       "      <td>NaN</td>\n",
       "    </tr>\n",
       "    <tr>\n",
       "      <th>December</th>\n",
       "      <td>118.0</td>\n",
       "      <td>140.0</td>\n",
       "      <td>166.0</td>\n",
       "      <td>194.0</td>\n",
       "      <td>201.0</td>\n",
       "      <td>229.0</td>\n",
       "      <td>NaN</td>\n",
       "    </tr>\n",
       "    <tr>\n",
       "      <th>February</th>\n",
       "      <td>118.0</td>\n",
       "      <td>126.0</td>\n",
       "      <td>150.0</td>\n",
       "      <td>180.0</td>\n",
       "      <td>196.0</td>\n",
       "      <td>188.0</td>\n",
       "      <td>233.0</td>\n",
       "    </tr>\n",
       "    <tr>\n",
       "      <th>January</th>\n",
       "      <td>112.0</td>\n",
       "      <td>115.0</td>\n",
       "      <td>145.0</td>\n",
       "      <td>171.0</td>\n",
       "      <td>196.0</td>\n",
       "      <td>204.0</td>\n",
       "      <td>242.0</td>\n",
       "    </tr>\n",
       "    <tr>\n",
       "      <th>July</th>\n",
       "      <td>148.0</td>\n",
       "      <td>170.0</td>\n",
       "      <td>199.0</td>\n",
       "      <td>230.0</td>\n",
       "      <td>264.0</td>\n",
       "      <td>302.0</td>\n",
       "      <td>NaN</td>\n",
       "    </tr>\n",
       "    <tr>\n",
       "      <th>June</th>\n",
       "      <td>135.0</td>\n",
       "      <td>149.0</td>\n",
       "      <td>178.0</td>\n",
       "      <td>218.0</td>\n",
       "      <td>243.0</td>\n",
       "      <td>264.0</td>\n",
       "      <td>NaN</td>\n",
       "    </tr>\n",
       "    <tr>\n",
       "      <th>March</th>\n",
       "      <td>132.0</td>\n",
       "      <td>141.0</td>\n",
       "      <td>178.0</td>\n",
       "      <td>193.0</td>\n",
       "      <td>236.0</td>\n",
       "      <td>235.0</td>\n",
       "      <td>NaN</td>\n",
       "    </tr>\n",
       "    <tr>\n",
       "      <th>May</th>\n",
       "      <td>121.0</td>\n",
       "      <td>125.0</td>\n",
       "      <td>172.0</td>\n",
       "      <td>183.0</td>\n",
       "      <td>229.0</td>\n",
       "      <td>234.0</td>\n",
       "      <td>NaN</td>\n",
       "    </tr>\n",
       "    <tr>\n",
       "      <th>November</th>\n",
       "      <td>104.0</td>\n",
       "      <td>114.0</td>\n",
       "      <td>146.0</td>\n",
       "      <td>172.0</td>\n",
       "      <td>180.0</td>\n",
       "      <td>203.0</td>\n",
       "      <td>NaN</td>\n",
       "    </tr>\n",
       "    <tr>\n",
       "      <th>October</th>\n",
       "      <td>119.0</td>\n",
       "      <td>133.0</td>\n",
       "      <td>162.0</td>\n",
       "      <td>191.0</td>\n",
       "      <td>211.0</td>\n",
       "      <td>229.0</td>\n",
       "      <td>NaN</td>\n",
       "    </tr>\n",
       "    <tr>\n",
       "      <th>September</th>\n",
       "      <td>136.0</td>\n",
       "      <td>158.0</td>\n",
       "      <td>184.0</td>\n",
       "      <td>209.0</td>\n",
       "      <td>237.0</td>\n",
       "      <td>259.0</td>\n",
       "      <td>NaN</td>\n",
       "    </tr>\n",
       "  </tbody>\n",
       "</table>\n",
       "</div>"
      ],
      "text/plain": [
       "year        1949   1950   1951   1952   1953   1954   1955\n",
       "month                                                     \n",
       "April      129.0  135.0  163.0  181.0  235.0  227.0    NaN\n",
       "August     148.0  170.0  199.0  242.0  272.0  293.0    NaN\n",
       "December   118.0  140.0  166.0  194.0  201.0  229.0    NaN\n",
       "February   118.0  126.0  150.0  180.0  196.0  188.0  233.0\n",
       "January    112.0  115.0  145.0  171.0  196.0  204.0  242.0\n",
       "July       148.0  170.0  199.0  230.0  264.0  302.0    NaN\n",
       "June       135.0  149.0  178.0  218.0  243.0  264.0    NaN\n",
       "March      132.0  141.0  178.0  193.0  236.0  235.0    NaN\n",
       "May        121.0  125.0  172.0  183.0  229.0  234.0    NaN\n",
       "November   104.0  114.0  146.0  172.0  180.0  203.0    NaN\n",
       "October    119.0  133.0  162.0  191.0  211.0  229.0    NaN\n",
       "September  136.0  158.0  184.0  209.0  237.0  259.0    NaN"
      ]
     },
     "execution_count": 162,
     "metadata": {},
     "output_type": "execute_result"
    }
   ],
   "source": [
    "# pivot the data by Year, have month and columns and show passengers count as values\n",
    "flights_data.pivot( values=\"passengers\", index=\"month\", columns =\"year\")"
   ]
  },
  {
   "cell_type": "code",
   "execution_count": null,
   "metadata": {},
   "outputs": [],
   "source": []
  }
 ],
 "metadata": {
  "kernelspec": {
   "display_name": "Python 3",
   "language": "python",
   "name": "python3"
  },
  "language_info": {
   "codemirror_mode": {
    "name": "ipython",
    "version": 3
   },
   "file_extension": ".py",
   "mimetype": "text/x-python",
   "name": "python",
   "nbconvert_exporter": "python",
   "pygments_lexer": "ipython3",
   "version": "3.6.1"
  }
 },
 "nbformat": 4,
 "nbformat_minor": 2
}
