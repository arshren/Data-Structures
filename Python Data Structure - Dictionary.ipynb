{
 "cells": [
  {
   "cell_type": "markdown",
   "metadata": {},
   "source": [
    "# Dictionary \n",
    "Dictionaries are indexed by keys, which can be any immutable type; strings and numbers can always be keys\n",
    "\n",
    "Dictionary as an unordered set of key: value pairs, with the requirement that the keys are unique (within one dictionary). \n",
    "\n",
    "A pair of braces creates an empty dictionary: {}. Placing a comma-separated list of key:value pairs within the braces adds initial key:value pairs to the dictionary; this is also the way dictionaries are written on output.\n",
    "\n",
    "The main operations on a dictionary are storing a value with some key and extracting the value given the key. \n",
    "\n",
    "It is also possible to delete a key:value pair with del. \n",
    "I\n",
    "f you store using a key that is already in use, the old value associated with that key is forgotten. \n",
    "\n",
    "It is an error to extract a value using a non-existent key.\n"
   ]
  },
  {
   "cell_type": "code",
   "execution_count": 6,
   "metadata": {},
   "outputs": [
    {
     "data": {
      "text/plain": [
       "{'Address': '1800 SW', 'Name': 'Jane Dow'}"
      ]
     },
     "execution_count": 6,
     "metadata": {},
     "output_type": "execute_result"
    }
   ],
   "source": [
    "# Defining a dictionary\n",
    "Contact_info = {}\n",
    "Contact_info = {'Name':'Jane Dow', \n",
    "                'Address':'1800 SW'\n",
    "               }\n",
    "Contact_info"
   ]
  },
  {
   "cell_type": "code",
   "execution_count": 7,
   "metadata": {},
   "outputs": [
    {
     "data": {
      "text/plain": [
       "{'Address': '1800 SW', 'Mobile': 1234567, 'Name': 'Jane Dow'}"
      ]
     },
     "execution_count": 7,
     "metadata": {},
     "output_type": "execute_result"
    }
   ],
   "source": [
    "# Adding elements to a dictionary\n",
    "Contact_info[\"Mobile\"] = 1234567\n",
    "Contact_info"
   ]
  },
  {
   "cell_type": "code",
   "execution_count": 8,
   "metadata": {},
   "outputs": [
    {
     "data": {
      "text/plain": [
       "{'Address': '1800 SW', 'Mobile': 9999999, 'Name': 'Jane Dow'}"
      ]
     },
     "execution_count": 8,
     "metadata": {},
     "output_type": "execute_result"
    }
   ],
   "source": [
    "# updating the value of an existsing key in a dictionary\n",
    "Contact_info[\"Mobile\"] =9999999\n",
    "Contact_info"
   ]
  },
  {
   "cell_type": "code",
   "execution_count": 11,
   "metadata": {},
   "outputs": [
    {
     "data": {
      "text/plain": [
       "{'Address': '1800 SW',\n",
       " 'Mobile': 9999999,\n",
       " 'Name': 'Jane Dow',\n",
       " 'email': 'abc@domain.com'}"
      ]
     },
     "execution_count": 11,
     "metadata": {},
     "output_type": "execute_result"
    }
   ],
   "source": [
    "# update() updates the  dictionary with specified key value pair\n",
    "Contact_info.update({\"email\":\"abc@domain.com\"})\n",
    "Contact_info"
   ]
  },
  {
   "cell_type": "code",
   "execution_count": 13,
   "metadata": {},
   "outputs": [
    {
     "data": {
      "text/plain": [
       "{'Address': '1800 SW',\n",
       " 'City': 'New York',\n",
       " 'Mobile': 9999999,\n",
       " 'Name': 'Jane Dow',\n",
       " 'Zip': 51234,\n",
       " 'email': 'abc@domain.com'}"
      ]
     },
     "execution_count": 13,
     "metadata": {},
     "output_type": "execute_result"
    }
   ],
   "source": [
    "# we can add elements to dictionary using update methnd and pass argument as dictionary\n",
    "data_1={'City':'New York', 'Zip':51234}\n",
    "Contact_info.update(data_1)\n",
    "Contact_info"
   ]
  },
  {
   "cell_type": "code",
   "execution_count": 14,
   "metadata": {},
   "outputs": [
    {
     "name": "stdout",
     "output_type": "stream",
     "text": [
      "Jane Dow\n",
      "abc@domain.com\n"
     ]
    }
   ],
   "source": [
    "# retriving value of a dcitionary by specifying the key\n",
    "print(Contact_info['Name'])\n",
    "print(Contact_info['email'])"
   ]
  },
  {
   "cell_type": "code",
   "execution_count": 18,
   "metadata": {},
   "outputs": [
    {
     "data": {
      "text/plain": [
       "'1800 SW'"
      ]
     },
     "execution_count": 18,
     "metadata": {},
     "output_type": "execute_result"
    }
   ],
   "source": [
    "Contact_info.get('Address')"
   ]
  },
  {
   "cell_type": "code",
   "execution_count": 16,
   "metadata": {},
   "outputs": [
    {
     "name": "stdout",
     "output_type": "stream",
     "text": [
      "dict_keys(['Name', 'Address', 'Mobile', 'email', 'City', 'Zip'])\n"
     ]
    }
   ],
   "source": [
    "print(Contact_info.keys())"
   ]
  },
  {
   "cell_type": "code",
   "execution_count": 17,
   "metadata": {},
   "outputs": [
    {
     "name": "stdout",
     "output_type": "stream",
     "text": [
      "dict_values(['Jane Dow', '1800 SW', 9999999, 'abc@domain.com', 'New York', 51234])\n"
     ]
    }
   ],
   "source": [
    "print(Contact_info.values())"
   ]
  },
  {
   "cell_type": "code",
   "execution_count": 19,
   "metadata": {},
   "outputs": [
    {
     "data": {
      "text/plain": [
       "{'Address': '1800 SW',\n",
       " 'City': 'New York',\n",
       " 'Mobile': 9999999,\n",
       " 'Name': 'Jane Dow',\n",
       " 'Zip': 51234}"
      ]
     },
     "execution_count": 19,
     "metadata": {},
     "output_type": "execute_result"
    }
   ],
   "source": [
    "del Contact_info[\"email\"]\n",
    "Contact_info"
   ]
  },
  {
   "cell_type": "code",
   "execution_count": 20,
   "metadata": {},
   "outputs": [
    {
     "data": {
      "text/plain": [
       "{'Arkansas': 'Little Rock',\n",
       " 'California': 'Sacramento',\n",
       " 'Iowa': 'Des Moines',\n",
       " 'Wisconsin': 'Madison'}"
      ]
     },
     "execution_count": 20,
     "metadata": {},
     "output_type": "execute_result"
    }
   ],
   "source": [
    "State_capital ={'Arkansas':'Little Rock', 'Wisconsin':'Madison', 'California':'Sacramento', 'Iowa':'Des Moines'}\n",
    "State_capital"
   ]
  },
  {
   "cell_type": "code",
   "execution_count": 21,
   "metadata": {},
   "outputs": [
    {
     "data": {
      "text/plain": [
       "{}"
      ]
     },
     "execution_count": 21,
     "metadata": {},
     "output_type": "execute_result"
    }
   ],
   "source": [
    "State_capital.clear()\n",
    "State_capital"
   ]
  },
  {
   "cell_type": "code",
   "execution_count": 27,
   "metadata": {},
   "outputs": [
    {
     "data": {
      "text/plain": [
       "{'Arkansas': 'Little Rock',\n",
       " 'California': 'Sacramento',\n",
       " 'Iowa': 'Des Moines',\n",
       " 'Wisconsin': 'Madison'}"
      ]
     },
     "execution_count": 27,
     "metadata": {},
     "output_type": "execute_result"
    }
   ],
   "source": [
    "State_capital ={'Arkansas':'Little Rock', 'Wisconsin':'Madison', 'California':'Sacramento', 'Iowa':'Des Moines'}\n",
    "State_capital"
   ]
  },
  {
   "cell_type": "code",
   "execution_count": 28,
   "metadata": {},
   "outputs": [
    {
     "data": {
      "text/plain": [
       "{'Arkansas': 'Little Rock', 'California': 'Sacramento', 'Wisconsin': 'Madison'}"
      ]
     },
     "execution_count": 28,
     "metadata": {},
     "output_type": "execute_result"
    }
   ],
   "source": [
    "State_capital.pop(\"Iowa\")\n",
    "State_capital"
   ]
  },
  {
   "cell_type": "code",
   "execution_count": 29,
   "metadata": {},
   "outputs": [
    {
     "data": {
      "text/plain": [
       "('California', 'Sacramento')"
      ]
     },
     "execution_count": 29,
     "metadata": {},
     "output_type": "execute_result"
    }
   ],
   "source": [
    "State_capital.popitem()\n"
   ]
  },
  {
   "cell_type": "code",
   "execution_count": 30,
   "metadata": {},
   "outputs": [
    {
     "data": {
      "text/plain": [
       "{'Arkansas': 'Little Rock', 'Wisconsin': 'Madison'}"
      ]
     },
     "execution_count": 30,
     "metadata": {},
     "output_type": "execute_result"
    }
   ],
   "source": [
    "State_capital"
   ]
  },
  {
   "cell_type": "code",
   "execution_count": 31,
   "metadata": {},
   "outputs": [
    {
     "name": "stdout",
     "output_type": "stream",
     "text": [
      "Jane Dow\n",
      "1800 SW\n",
      "9999999\n",
      "New York\n",
      "51234\n"
     ]
    }
   ],
   "source": [
    "for i in Contact_info:\n",
    "    print(Contact_info[i])"
   ]
  },
  {
   "cell_type": "code",
   "execution_count": 34,
   "metadata": {},
   "outputs": [],
   "source": [
    "state_capital={\n",
    "    'New York': 'Albany',\n",
    "    'New Jersey': 'Trenton',\n",
    "    'Arkansas':'Little Rock',\n",
    "    'Wisconsin':'Madison',\n",
    "    'Illinois':'Springfield',\n",
    "    'Iowa':'Des Moines',\n",
    "    'California':'Sacramanto'\n",
    "    }"
   ]
  },
  {
   "cell_type": "code",
   "execution_count": 35,
   "metadata": {},
   "outputs": [
    {
     "name": "stdout",
     "output_type": "stream",
     "text": [
      "{'New York': 'Albany', 'New Jersey': 'Trenton', 'Arkansas': 'Little Rock', 'Wisconsin': 'Madison', 'Illinois': 'Springfield', 'Iowa': 'Des Moines', 'California': 'Sacramanto'}\n"
     ]
    }
   ],
   "source": [
    "dict_capital = {key:value for (key, value) in state_capital.items()}\n",
    "print(dict_capital)"
   ]
  },
  {
   "cell_type": "code",
   "execution_count": 36,
   "metadata": {},
   "outputs": [
    {
     "name": "stdout",
     "output_type": "stream",
     "text": [
      "Des Moines\n"
     ]
    }
   ],
   "source": [
    "search_state ='Iowa'\n",
    "for state in state_capital:\n",
    "    if search_state == state:\n",
    "        print(state_capital[state])"
   ]
  },
  {
   "cell_type": "code",
   "execution_count": 42,
   "metadata": {},
   "outputs": [],
   "source": [
    "counties_in_state={\n",
    "    'New York': 'Albany',\n",
    "    'New Jersey': 'Trenton',\n",
    "    'Arkansas':'Little Rock, Bentonville, Rogers, Fayetville',\n",
    "    'Wisconsin':'Madison, Milwaukee',\n",
    "    'Illinois':'Springfield, chicago',\n",
    "    'Iowa':'Des Moines',\n",
    "    'California':'Sacromanto, San Francisco, Los Angeles'\n",
    "    }"
   ]
  },
  {
   "cell_type": "code",
   "execution_count": 43,
   "metadata": {},
   "outputs": [
    {
     "name": "stdout",
     "output_type": "stream",
     "text": [
      "{'Little Rock, Bentonville, Rogers, Fayetville'}\n"
     ]
    }
   ],
   "source": [
    "counties = {value for (key,value) in counties_in_state.items() if key == 'Arkansas'}\n",
    "print(counties)"
   ]
  },
  {
   "cell_type": "code",
   "execution_count": 20,
   "metadata": {},
   "outputs": [
    {
     "name": "stdout",
     "output_type": "stream",
     "text": [
      "Little Rock, Bentonville, Rogers, Fayetville\n"
     ]
    }
   ],
   "source": [
    "search_city ='Arkansas'\n",
    "for city in cities_in_state:\n",
    "    if search_city == city:\n",
    "        print(cities_in_state[city])"
   ]
  },
  {
   "cell_type": "code",
   "execution_count": 23,
   "metadata": {},
   "outputs": [
    {
     "name": "stdout",
     "output_type": "stream",
     "text": [
      "Illinois\n"
     ]
    }
   ],
   "source": [
    "search_city ='chicago'\n",
    "for city in cities_in_state:\n",
    "    if search_city == city:\n",
    "        print(cities_in_state[city])\n",
    "    elif search_city in cities_in_state[city]:\n",
    "        print(city)"
   ]
  },
  {
   "cell_type": "code",
   "execution_count": 27,
   "metadata": {},
   "outputs": [],
   "source": [
    "del cities_in_state['Iowa']  # deletes Iowa"
   ]
  },
  {
   "cell_type": "code",
   "execution_count": 28,
   "metadata": {},
   "outputs": [
    {
     "data": {
      "text/plain": [
       "{'Arkansas': 'Little Rock, Bentonville, Rogers, Fayetville',\n",
       " 'California': 'Sacromanto, San Francisco, Los Angeles',\n",
       " 'Illinois': 'Springfield, chicago',\n",
       " 'New Jersey': 'Trenton',\n",
       " 'New York': 'Albany',\n",
       " 'Wisconsin': 'Madison, Milwaukee'}"
      ]
     },
     "execution_count": 28,
     "metadata": {},
     "output_type": "execute_result"
    }
   ],
   "source": [
    "cities_in_state"
   ]
  },
  {
   "cell_type": "code",
   "execution_count": 29,
   "metadata": {
    "collapsed": true
   },
   "outputs": [],
   "source": [
    "cities_in_state.clear() # removes all entires from Dictionary"
   ]
  },
  {
   "cell_type": "code",
   "execution_count": 30,
   "metadata": {},
   "outputs": [
    {
     "data": {
      "text/plain": [
       "{}"
      ]
     },
     "execution_count": 30,
     "metadata": {},
     "output_type": "execute_result"
    }
   ],
   "source": [
    "cities_in_state"
   ]
  },
  {
   "cell_type": "code",
   "execution_count": 31,
   "metadata": {
    "collapsed": true
   },
   "outputs": [],
   "source": [
    "cities_in_state={\n",
    "    'New York': 'Albany',\n",
    "    'New Jersey': 'Trenton',\n",
    "    'Arkansas':'Little Rock, Bentonville, Rogers, Fayetville',\n",
    "    'Wisconsin':'Madison, Milwaukee',\n",
    "    'Illinois':'Springfield, chicago',\n",
    "    'Iowa':'Des Moines',\n",
    "    'California':'Sacromanto, San Francisco, Los Angeles'\n",
    "    }"
   ]
  },
  {
   "cell_type": "code",
   "execution_count": 32,
   "metadata": {
    "collapsed": true
   },
   "outputs": [],
   "source": [
    "#Adding one more element to Cities in State\n",
    "cities_in_state['Texas'] = 'Dallas, Austin'"
   ]
  },
  {
   "cell_type": "code",
   "execution_count": 33,
   "metadata": {},
   "outputs": [
    {
     "data": {
      "text/plain": [
       "{'Arkansas': 'Little Rock, Bentonville, Rogers, Fayetville',\n",
       " 'California': 'Sacromanto, San Francisco, Los Angeles',\n",
       " 'Illinois': 'Springfield, chicago',\n",
       " 'Iowa': 'Des Moines',\n",
       " 'New Jersey': 'Trenton',\n",
       " 'New York': 'Albany',\n",
       " 'Texas': 'Dallas, Austin',\n",
       " 'Wisconsin': 'Madison, Milwaukee'}"
      ]
     },
     "execution_count": 33,
     "metadata": {},
     "output_type": "execute_result"
    }
   ],
   "source": [
    "cities_in_state"
   ]
  },
  {
   "cell_type": "code",
   "execution_count": 34,
   "metadata": {
    "collapsed": true
   },
   "outputs": [],
   "source": [
    "# Adding Houston to Texas\n",
    "cities_in_state['Texas'] ='Dallas, Austin, Houston'"
   ]
  },
  {
   "cell_type": "code",
   "execution_count": 46,
   "metadata": {},
   "outputs": [
    {
     "name": "stdout",
     "output_type": "stream",
     "text": [
      "State New York  Cities Albany\n",
      "State New Jersey  Cities Trenton\n",
      "State Arkansas  Cities Little Rock, Bentonville, Rogers, Fayetville\n",
      "State Wisconsin  Cities Madison, Milwaukee\n",
      "State Illinois  Cities Springfield, chicago\n",
      "State Iowa  Cities Des Moines\n",
      "State California  Cities Sacromanto, San Francisco, Los Angeles\n",
      "State Texas  Cities Dallas, Austin, Houston\n"
     ]
    }
   ],
   "source": [
    "for city in cities_in_state:\n",
    "    print(\"State \"+ city +\"  Cities \"+cities_in_state[city])"
   ]
  },
  {
   "cell_type": "code",
   "execution_count": 47,
   "metadata": {},
   "outputs": [
    {
     "data": {
      "text/plain": [
       "dict_values(['Albany', 'Trenton', 'Little Rock, Bentonville, Rogers, Fayetville', 'Madison, Milwaukee', 'Springfield, chicago', 'Des Moines', 'Sacromanto, San Francisco, Los Angeles', 'Dallas, Austin, Houston'])"
      ]
     },
     "execution_count": 47,
     "metadata": {},
     "output_type": "execute_result"
    }
   ],
   "source": [
    "cities_in_state.values()"
   ]
  },
  {
   "cell_type": "code",
   "execution_count": 49,
   "metadata": {},
   "outputs": [
    {
     "data": {
      "text/plain": [
       "dict_keys(['New York', 'New Jersey', 'Arkansas', 'Wisconsin', 'Illinois', 'Iowa', 'California', 'Texas'])"
      ]
     },
     "execution_count": 49,
     "metadata": {},
     "output_type": "execute_result"
    }
   ],
   "source": [
    "cities_in_state.keys()"
   ]
  },
  {
   "cell_type": "code",
   "execution_count": 60,
   "metadata": {},
   "outputs": [
    {
     "data": {
      "text/plain": [
       "True"
      ]
     },
     "execution_count": 60,
     "metadata": {},
     "output_type": "execute_result"
    }
   ],
   "source": [
    "'Albany' in cities_in_state.values()"
   ]
  },
  {
   "cell_type": "code",
   "execution_count": 55,
   "metadata": {},
   "outputs": [
    {
     "data": {
      "text/plain": [
       "True"
      ]
     },
     "execution_count": 55,
     "metadata": {},
     "output_type": "execute_result"
    }
   ],
   "source": [
    "'Iowa' in cities_in_state.keys()"
   ]
  },
  {
   "cell_type": "code",
   "execution_count": 61,
   "metadata": {},
   "outputs": [
    {
     "data": {
      "text/plain": [
       "dict_items([('New York', 'Albany'), ('New Jersey', 'Trenton'), ('Arkansas', 'Little Rock, Bentonville, Rogers, Fayetville'), ('Wisconsin', 'Madison, Milwaukee'), ('Illinois', 'Springfield, chicago'), ('Iowa', 'Des Moines'), ('California', 'Sacromanto, San Francisco, Los Angeles'), ('Texas', 'Dallas, Austin, Houston')])"
      ]
     },
     "execution_count": 61,
     "metadata": {},
     "output_type": "execute_result"
    }
   ],
   "source": [
    "cities_in_state.items()"
   ]
  },
  {
   "cell_type": "code",
   "execution_count": 62,
   "metadata": {},
   "outputs": [
    {
     "data": {
      "text/plain": [
       "False"
      ]
     },
     "execution_count": 62,
     "metadata": {},
     "output_type": "execute_result"
    }
   ],
   "source": [
    "'chicago' in cities_in_state.items()"
   ]
  },
  {
   "cell_type": "code",
   "execution_count": null,
   "metadata": {
    "collapsed": true
   },
   "outputs": [],
   "source": []
  }
 ],
 "metadata": {
  "kernelspec": {
   "display_name": "Python 3",
   "language": "python",
   "name": "python3"
  },
  "language_info": {
   "codemirror_mode": {
    "name": "ipython",
    "version": 3
   },
   "file_extension": ".py",
   "mimetype": "text/x-python",
   "name": "python",
   "nbconvert_exporter": "python",
   "pygments_lexer": "ipython3",
   "version": "3.6.1"
  }
 },
 "nbformat": 4,
 "nbformat_minor": 2
}
