{
 "cells": [
  {
   "cell_type": "markdown",
   "metadata": {},
   "source": [
    "#### Tuples\n",
    "consists of a number of values separated by commas\n",
    "\n",
    "Tuples are immutable or unchangable - once defined you cannot edit,add, delete values\n",
    "\n",
    "can contain duplicate values\n",
    "\n",
    "Useful when you do not want anyone to manipulate the data"
   ]
  },
  {
   "cell_type": "code",
   "execution_count": 25,
   "metadata": {},
   "outputs": [
    {
     "data": {
      "text/plain": [
       "('screwdriver', 'spanner', 'nuts', 'bolts', 'hammer')"
      ]
     },
     "execution_count": 25,
     "metadata": {},
     "output_type": "execute_result"
    }
   ],
   "source": [
    "# defining a Tuple\n",
    "tool_List =('screwdriver', 'spanner', 'nuts', 'bolts', 'hammer')\n",
    "tool_List"
   ]
  },
  {
   "cell_type": "code",
   "execution_count": 2,
   "metadata": {},
   "outputs": [
    {
     "data": {
      "text/plain": [
       "('screwdriver', 'spanner', 'nuts', 'bolts', 'hammer', 'spanner')"
      ]
     },
     "execution_count": 2,
     "metadata": {},
     "output_type": "execute_result"
    }
   ],
   "source": [
    "# Tuple can contain duplicate value\n",
    "tool_List =('screwdriver', 'spanner', 'nuts', 'bolts', 'hammer', 'spanner')\n",
    "tool_List"
   ]
  },
  {
   "cell_type": "code",
   "execution_count": 7,
   "metadata": {},
   "outputs": [
    {
     "data": {
      "text/plain": [
       "('screwdriver', 'spanner', 'nuts', 'bolts', 'hammer')"
      ]
     },
     "execution_count": 7,
     "metadata": {},
     "output_type": "execute_result"
    }
   ],
   "source": [
    "# creating Tuple without using parenthesis\n",
    "tool_List = 'screwdriver', 'spanner', 'nuts', 'bolts', 'hammer'\n",
    "tool_List"
   ]
  },
  {
   "cell_type": "code",
   "execution_count": 13,
   "metadata": {},
   "outputs": [
    {
     "data": {
      "text/plain": [
       "('screwdriver', 'spanner', 'nuts', 'bolts', 'hammer', 'nail gun')"
      ]
     },
     "execution_count": 13,
     "metadata": {},
     "output_type": "execute_result"
    }
   ],
   "source": [
    "# concatenating data in a Tuple\n",
    "tool_List  += ('nail gun',)\n",
    "tool_List"
   ]
  },
  {
   "cell_type": "code",
   "execution_count": 17,
   "metadata": {},
   "outputs": [
    {
     "data": {
      "text/plain": [
       "('My Company', 'Apple', 'Google', 'Wal-mart', 'Amazon', 'Microsoft')"
      ]
     },
     "execution_count": 17,
     "metadata": {},
     "output_type": "execute_result"
    }
   ],
   "source": [
    "# concatenating two tuples\n",
    "fortune_500 =('Apple','Google', 'Wal-mart', 'Amazon', 'Microsoft')\n",
    "awesome_companies =('My Company',)\n",
    "awesome_companies += fortune_500 \n",
    "awesome_companies"
   ]
  },
  {
   "cell_type": "code",
   "execution_count": 18,
   "metadata": {},
   "outputs": [
    {
     "name": "stdout",
     "output_type": "stream",
     "text": [
      "Apple\n"
     ]
    }
   ],
   "source": [
    "# Accessing a single value from a Tuple\n",
    "print(awesome_companies[1])"
   ]
  },
  {
   "cell_type": "code",
   "execution_count": 20,
   "metadata": {},
   "outputs": [
    {
     "name": "stdout",
     "output_type": "stream",
     "text": [
      "('Google', 'Wal-mart', 'Amazon')\n"
     ]
    }
   ],
   "source": [
    "# slicing or accessing a range of values from a tuple\n",
    "print(awesome_companies[2:5])"
   ]
  },
  {
   "cell_type": "code",
   "execution_count": 21,
   "metadata": {},
   "outputs": [
    {
     "name": "stdout",
     "output_type": "stream",
     "text": [
      "('Apple', 'Google', 'Wal-mart', 'Amazon', 'Microsoft')\n"
     ]
    }
   ],
   "source": [
    "print(awesome_companies[1:])"
   ]
  },
  {
   "cell_type": "code",
   "execution_count": 22,
   "metadata": {},
   "outputs": [
    {
     "name": "stdout",
     "output_type": "stream",
     "text": [
      "('My Company', 'Apple', 'Google')\n"
     ]
    }
   ],
   "source": [
    "print(awesome_companies[:3])"
   ]
  },
  {
   "cell_type": "code",
   "execution_count": 26,
   "metadata": {},
   "outputs": [],
   "source": [
    "# deletes the tuple tool_List\n",
    "del tool_List\n"
   ]
  },
  {
   "cell_type": "code",
   "execution_count": 27,
   "metadata": {},
   "outputs": [
    {
     "name": "stdout",
     "output_type": "stream",
     "text": [
      "My Company\n",
      "Apple\n",
      "Google\n",
      "Wal-mart\n",
      "Amazon\n",
      "Microsoft\n"
     ]
    }
   ],
   "source": [
    "# Iterating thru a Tuple\n",
    "for i  in awesome_companies:\n",
    "    print(i)"
   ]
  },
  {
   "cell_type": "code",
   "execution_count": 40,
   "metadata": {},
   "outputs": [
    {
     "name": "stdout",
     "output_type": "stream",
     "text": [
      "('My Company', 'Google', 'Wal-mart', 'Amazon', 'Microsoft')\n"
     ]
    }
   ],
   "source": [
    "# Tuple comprehension with conditions\n",
    "name = tuple(  i for i in awesome_companies  if i != \"Apple\")\n",
    "print(name)"
   ]
  },
  {
   "cell_type": "code",
   "execution_count": 47,
   "metadata": {},
   "outputs": [
    {
     "data": {
      "text/plain": [
       "('USA', 'Washington D.C.', '50', 'Bald Eagle', 'Rose', 'American Bison')"
      ]
     },
     "execution_count": 47,
     "metadata": {},
     "output_type": "execute_result"
    }
   ],
   "source": [
    "# packing a Tuple\n",
    "country =  'USA', 'Washington D.C.', '50', 'Bald Eagle', 'Rose', 'American Bison'\n",
    "country"
   ]
  },
  {
   "cell_type": "code",
   "execution_count": 49,
   "metadata": {},
   "outputs": [
    {
     "name": "stdout",
     "output_type": "stream",
     "text": [
      "USA\n",
      "Rose\n"
     ]
    }
   ],
   "source": [
    "#unpacking the Tuple in different variables\n",
    "country_name, capital, no_of_states, national_bird, national_flower, national_animal = country\n",
    "print(country_name)\n",
    "print(national_flower)"
   ]
  },
  {
   "cell_type": "code",
   "execution_count": 56,
   "metadata": {},
   "outputs": [
    {
     "data": {
      "text/plain": [
       "{'Age': 85, 'Constituency': 'Arizona', 'Name': 'John'}"
      ]
     },
     "execution_count": 56,
     "metadata": {},
     "output_type": "execute_result"
    }
   ],
   "source": [
    "# using tuple as key/valie pair to create a dictionary\n",
    "t1 =('Constituency','Arizona')\n",
    "senator=dict([('Name', 'John'), ('Age', 85), t1])\n",
    "senator"
   ]
  },
  {
   "cell_type": "code",
   "execution_count": 71,
   "metadata": {},
   "outputs": [
    {
     "data": {
      "text/plain": [
       "'Barack Hussein Obama'"
      ]
     },
     "execution_count": 71,
     "metadata": {},
     "output_type": "execute_result"
    }
   ],
   "source": [
    "#using tuple as dictionary keys\n",
    "president={(45, 'Donald'): 'Donald J Trump'}\n",
    "president_44 =(44,'Obama')\n",
    "president[president_44] = 'Barack Hussein Obama'\n",
    "president[(44,'Obama')]"
   ]
  },
  {
   "cell_type": "code",
   "execution_count": 74,
   "metadata": {},
   "outputs": [
    {
     "data": {
      "text/plain": [
       "2"
      ]
     },
     "execution_count": 74,
     "metadata": {},
     "output_type": "execute_result"
    }
   ],
   "source": [
    "#length of the Tuple\n",
    "len(president_44)"
   ]
  },
  {
   "cell_type": "code",
   "execution_count": 80,
   "metadata": {},
   "outputs": [
    {
     "name": "stdout",
     "output_type": "stream",
     "text": [
      "500\n",
      "2\n",
      "616\n",
      "[2, 4, 10, 100, 500]\n"
     ]
    }
   ],
   "source": [
    "# max and min on a Tuple\n",
    "numbers =(10,2,4,100,500)\n",
    "print(max(numbers))\n",
    "print(min(numbers))\n",
    "print(sum(numbers))\n",
    "print(sorted(numbers))"
   ]
  },
  {
   "cell_type": "code",
   "execution_count": 90,
   "metadata": {},
   "outputs": [
    {
     "name": "stdout",
     "output_type": "stream",
     "text": [
      "True\n",
      "False\n"
     ]
    }
   ],
   "source": [
    "test=(1,'name', 'trail',  False, True)\n",
    "print(any(test))\n",
    "print(all(test))"
   ]
  },
  {
   "cell_type": "code",
   "execution_count": 91,
   "metadata": {},
   "outputs": [
    {
     "name": "stdout",
     "output_type": "stream",
     "text": [
      "2\n",
      "3\n"
     ]
    }
   ],
   "source": [
    "flowers =('Rose', 'Lily', 'Orchids', 'Lotus', ' Mari Gold', 'Sunflower','Rose')\n",
    "print(flowers.count('Rose'))\n",
    "print(flowers.index('Lotus'))"
   ]
  },
  {
   "cell_type": "code",
   "execution_count": null,
   "metadata": {},
   "outputs": [],
   "source": []
  }
 ],
 "metadata": {
  "kernelspec": {
   "display_name": "Python 3",
   "language": "python",
   "name": "python3"
  },
  "language_info": {
   "codemirror_mode": {
    "name": "ipython",
    "version": 3
   },
   "file_extension": ".py",
   "mimetype": "text/x-python",
   "name": "python",
   "nbconvert_exporter": "python",
   "pygments_lexer": "ipython3",
   "version": "3.6.1"
  }
 },
 "nbformat": 4,
 "nbformat_minor": 2
}
